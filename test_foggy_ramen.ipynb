{
 "cells": [
  {
   "cell_type": "markdown",
   "id": "73ac1d5f",
   "metadata": {},
   "source": [
    "# Test of the chess engine Foggy-Ramen"
   ]
  },
  {
   "cell_type": "code",
   "execution_count": 54,
   "id": "ebcdaaf1",
   "metadata": {},
   "outputs": [],
   "source": [
    "from importlib import reload\n",
    "import ramen_chess\n",
    "import foggy_ramen\n",
    "reload(ramen_chess)\n",
    "reload(foggy_ramen)\n",
    "from ramen_chess import *\n",
    "from foggy_ramen import *"
   ]
  },
  {
   "cell_type": "code",
   "execution_count": 57,
   "id": "44bcfea3",
   "metadata": {},
   "outputs": [
    {
     "name": "stdout",
     "output_type": "stream",
     "text": [
      "8 | ♜ . . . ♚ ♝ . ♜ \n",
      "7 | ♟ ♟ ♙ . . ♟ ♟ ♟ \n",
      "6 | . . . . . ♞ . . \n",
      "5 | . . . . ♛ . . . \n",
      "4 | . . . ♞ . . . . \n",
      "3 | . . ♘ ♗ ♗ . . . \n",
      "2 | ♙ ♙ ♙ . ♘ ♙ ♝ ♙ \n",
      "1 | ♖ . . ♕ ♔ . . ♖ \n",
      "   ––––––––––––––––\n",
      "    a b c d e f g h\n",
      "  Pa7a6\n",
      "  Pa7a5\n",
      "  Ra8b8\n",
      "  Ra8c8\n",
      "  Ra8d8\n",
      "  Pb7b6\n",
      "  Pb7b5\n",
      "  Nd4f5\n",
      "  Nd4e6\n",
      "  Nd4c6\n",
      "  Nd4b5\n",
      "  Nd4b3\n",
      "  Nd4xc2\n",
      "  Nd4xe2\n",
      "  Nd4f3\n",
      "  Qe5d5\n",
      "  Qe5c5\n",
      "  Qe5b5\n",
      "  Qe5a5\n"
     ]
    },
    {
     "ename": "KeyboardInterrupt",
     "evalue": "",
     "output_type": "error",
     "traceback": [
      "\u001b[0;31m---------------------------------------------------------------------------\u001b[0m",
      "\u001b[0;31mKeyboardInterrupt\u001b[0m                         Traceback (most recent call last)",
      "Input \u001b[0;32mIn [57]\u001b[0m, in \u001b[0;36m<cell line: 4>\u001b[0;34m()\u001b[0m\n\u001b[1;32m      2\u001b[0m engine\u001b[38;5;241m=\u001b[39mEngine(Position\u001b[38;5;241m.\u001b[39mfrom_fen(fen))\n\u001b[1;32m      3\u001b[0m \u001b[38;5;28mprint\u001b[39m(engine\u001b[38;5;241m.\u001b[39mgame\u001b[38;5;241m.\u001b[39mboard)\n\u001b[0;32m----> 4\u001b[0m move,score\u001b[38;5;241m=\u001b[39m\u001b[43mengine\u001b[49m\u001b[38;5;241;43m.\u001b[39;49m\u001b[43mbest_move\u001b[49m\u001b[43m(\u001b[49m\u001b[43mdepth\u001b[49m\u001b[38;5;241;43m=\u001b[39;49m\u001b[38;5;241;43m2\u001b[39;49m\u001b[43m,\u001b[49m\u001b[43mdisplay\u001b[49m\u001b[38;5;241;43m=\u001b[39;49m\u001b[38;5;28;43;01mTrue\u001b[39;49;00m\u001b[43m)\u001b[49m\n\u001b[1;32m      5\u001b[0m \u001b[38;5;28mprint\u001b[39m(\u001b[38;5;124m\"\u001b[39m\u001b[38;5;124mBest move:\u001b[39m\u001b[38;5;124m\"\u001b[39m, move)\n",
      "File \u001b[0;32m~/Documents/lichess-bot/engines/ramen_chess/foggy_ramen.py:51\u001b[0m, in \u001b[0;36mEngine.best_move\u001b[0;34m(self, depth, display)\u001b[0m\n\u001b[1;32m     49\u001b[0m         \u001b[38;5;28mprint\u001b[39m(\u001b[38;5;124m\"\u001b[39m\u001b[38;5;124m \u001b[39m\u001b[38;5;124m\"\u001b[39m \u001b[38;5;241m*\u001b[39m depth \u001b[38;5;241m+\u001b[39m \u001b[38;5;28mstr\u001b[39m(move))\n\u001b[1;32m     50\u001b[0m     \u001b[38;5;28mself\u001b[39m\u001b[38;5;241m.\u001b[39mgame\u001b[38;5;241m.\u001b[39mmove(move)\n\u001b[0;32m---> 51\u001b[0m     scores\u001b[38;5;241m.\u001b[39mappend(\u001b[38;5;28;43mself\u001b[39;49m\u001b[38;5;241;43m.\u001b[39;49m\u001b[43mbrute_force\u001b[49m\u001b[43m(\u001b[49m\u001b[43mdepth\u001b[49m\u001b[38;5;241;43m-\u001b[39;49m\u001b[38;5;241;43m1\u001b[39;49m\u001b[43m)\u001b[49m)\n\u001b[1;32m     52\u001b[0m     \u001b[38;5;28mself\u001b[39m\u001b[38;5;241m.\u001b[39mgame\u001b[38;5;241m.\u001b[39mundo_move()\n\u001b[1;32m     53\u001b[0m \u001b[38;5;28;01mif\u001b[39;00m \u001b[38;5;28mself\u001b[39m\u001b[38;5;241m.\u001b[39mgame\u001b[38;5;241m.\u001b[39mturn \u001b[38;5;241m==\u001b[39m WHITE:\n",
      "File \u001b[0;32m~/Documents/lichess-bot/engines/ramen_chess/foggy_ramen.py:41\u001b[0m, in \u001b[0;36mEngine.brute_force\u001b[0;34m(self, depth)\u001b[0m\n\u001b[1;32m     39\u001b[0m \u001b[38;5;28;01mfor\u001b[39;00m move \u001b[38;5;129;01min\u001b[39;00m moves:\n\u001b[1;32m     40\u001b[0m     \u001b[38;5;28mself\u001b[39m\u001b[38;5;241m.\u001b[39mgame\u001b[38;5;241m.\u001b[39mmove(move)\n\u001b[0;32m---> 41\u001b[0m     scores\u001b[38;5;241m.\u001b[39mappend(\u001b[38;5;28;43mself\u001b[39;49m\u001b[38;5;241;43m.\u001b[39;49m\u001b[43mbrute_force\u001b[49m\u001b[43m(\u001b[49m\u001b[43mdepth\u001b[49m\u001b[38;5;241;43m-\u001b[39;49m\u001b[38;5;241;43m1\u001b[39;49m\u001b[43m)\u001b[49m)\n\u001b[1;32m     42\u001b[0m     \u001b[38;5;28mself\u001b[39m\u001b[38;5;241m.\u001b[39mgame\u001b[38;5;241m.\u001b[39mundo_move()\n\u001b[1;32m     43\u001b[0m \u001b[38;5;28;01mreturn\u001b[39;00m \u001b[38;5;28mmax\u001b[39m(scores) \u001b[38;5;28;01mif\u001b[39;00m \u001b[38;5;28mself\u001b[39m\u001b[38;5;241m.\u001b[39mgame\u001b[38;5;241m.\u001b[39mturn \u001b[38;5;241m==\u001b[39m WHITE \u001b[38;5;28;01melse\u001b[39;00m \u001b[38;5;28mmin\u001b[39m(scores)\n",
      "File \u001b[0;32m~/Documents/lichess-bot/engines/ramen_chess/foggy_ramen.py:34\u001b[0m, in \u001b[0;36mEngine.brute_force\u001b[0;34m(self, depth)\u001b[0m\n\u001b[1;32m     32\u001b[0m \u001b[38;5;28;01mdef\u001b[39;00m \u001b[38;5;21mbrute_force\u001b[39m(\u001b[38;5;28mself\u001b[39m,depth\u001b[38;5;241m=\u001b[39m\u001b[38;5;241m3\u001b[39m):\n\u001b[1;32m     33\u001b[0m     \u001b[38;5;28;01mif\u001b[39;00m depth \u001b[38;5;241m==\u001b[39m \u001b[38;5;241m0\u001b[39m:\n\u001b[0;32m---> 34\u001b[0m         \u001b[38;5;28;01mreturn\u001b[39;00m \u001b[38;5;28;43mself\u001b[39;49m\u001b[38;5;241;43m.\u001b[39;49m\u001b[43mheuristical_score\u001b[49m\u001b[43m(\u001b[49m\u001b[43m)\u001b[49m\n\u001b[1;32m     35\u001b[0m     moves \u001b[38;5;241m=\u001b[39m \u001b[38;5;28mself\u001b[39m\u001b[38;5;241m.\u001b[39mgame\u001b[38;5;241m.\u001b[39mlegal_moves()\n\u001b[1;32m     36\u001b[0m     \u001b[38;5;28;01mif\u001b[39;00m \u001b[38;5;28mlen\u001b[39m(moves) \u001b[38;5;241m==\u001b[39m \u001b[38;5;241m0\u001b[39m:\n",
      "File \u001b[0;32m~/Documents/lichess-bot/engines/ramen_chess/foggy_ramen.py:22\u001b[0m, in \u001b[0;36mEngine.heuristical_score\u001b[0;34m(self)\u001b[0m\n\u001b[1;32m     21\u001b[0m \u001b[38;5;28;01mdef\u001b[39;00m \u001b[38;5;21mheuristical_score\u001b[39m(\u001b[38;5;28mself\u001b[39m):\n\u001b[0;32m---> 22\u001b[0m     state\u001b[38;5;241m=\u001b[39m\u001b[38;5;28;43mself\u001b[39;49m\u001b[38;5;241;43m.\u001b[39;49m\u001b[43mgame\u001b[49m\u001b[38;5;241;43m.\u001b[39;49m\u001b[43mstate\u001b[49m\u001b[43m(\u001b[49m\u001b[43m)\u001b[49m\n\u001b[1;32m     23\u001b[0m     \u001b[38;5;28;01mif\u001b[39;00m state \u001b[38;5;241m==\u001b[39m \u001b[38;5;124m\"\u001b[39m\u001b[38;5;124mcheckmate\u001b[39m\u001b[38;5;124m\"\u001b[39m:\n\u001b[1;32m     24\u001b[0m         \u001b[38;5;28;01mif\u001b[39;00m \u001b[38;5;28mself\u001b[39m\u001b[38;5;241m.\u001b[39mgame\u001b[38;5;241m.\u001b[39mturn \u001b[38;5;241m==\u001b[39m WHITE:\n",
      "File \u001b[0;32m~/Documents/lichess-bot/engines/ramen_chess/ramen_chess.py:675\u001b[0m, in \u001b[0;36mGame.state\u001b[0;34m(self)\u001b[0m\n\u001b[1;32m    674\u001b[0m \u001b[38;5;28;01mdef\u001b[39;00m \u001b[38;5;21mstate\u001b[39m(\u001b[38;5;28mself\u001b[39m):\n\u001b[0;32m--> 675\u001b[0m     \u001b[38;5;28;01mif\u001b[39;00m \u001b[38;5;28;43mself\u001b[39;49m\u001b[38;5;241;43m.\u001b[39;49m\u001b[43mlegal_moves\u001b[49m\u001b[43m(\u001b[49m\u001b[43m)\u001b[49m \u001b[38;5;241m==\u001b[39m \u001b[38;5;241m0\u001b[39m:\n\u001b[1;32m    676\u001b[0m         \u001b[38;5;28;01mif\u001b[39;00m \u001b[38;5;28mself\u001b[39m\u001b[38;5;241m.\u001b[39mis_check():\n\u001b[1;32m    677\u001b[0m             \u001b[38;5;28;01mreturn\u001b[39;00m \u001b[38;5;124m\"\u001b[39m\u001b[38;5;124mcheckmate\u001b[39m\u001b[38;5;124m\"\u001b[39m\n",
      "File \u001b[0;32m~/Documents/lichess-bot/engines/ramen_chess/ramen_chess.py:669\u001b[0m, in \u001b[0;36mGame.legal_moves\u001b[0;34m(self)\u001b[0m\n\u001b[1;32m    667\u001b[0m \u001b[38;5;28;01mdef\u001b[39;00m \u001b[38;5;21mlegal_moves\u001b[39m(\u001b[38;5;28mself\u001b[39m):\n\u001b[1;32m    668\u001b[0m     moves \u001b[38;5;241m=\u001b[39m \u001b[38;5;28mself\u001b[39m\u001b[38;5;241m.\u001b[39mpseudo_legal_moves()\n\u001b[0;32m--> 669\u001b[0m     \u001b[38;5;28;01mreturn\u001b[39;00m [move \u001b[38;5;28;01mfor\u001b[39;00m move \u001b[38;5;129;01min\u001b[39;00m moves \u001b[38;5;28;01mif\u001b[39;00m \u001b[38;5;28mself\u001b[39m\u001b[38;5;241m.\u001b[39mpseudo_is_legal(move)]\n",
      "File \u001b[0;32m~/Documents/lichess-bot/engines/ramen_chess/ramen_chess.py:669\u001b[0m, in \u001b[0;36m<listcomp>\u001b[0;34m(.0)\u001b[0m\n\u001b[1;32m    667\u001b[0m \u001b[38;5;28;01mdef\u001b[39;00m \u001b[38;5;21mlegal_moves\u001b[39m(\u001b[38;5;28mself\u001b[39m):\n\u001b[1;32m    668\u001b[0m     moves \u001b[38;5;241m=\u001b[39m \u001b[38;5;28mself\u001b[39m\u001b[38;5;241m.\u001b[39mpseudo_legal_moves()\n\u001b[0;32m--> 669\u001b[0m     \u001b[38;5;28;01mreturn\u001b[39;00m [move \u001b[38;5;28;01mfor\u001b[39;00m move \u001b[38;5;129;01min\u001b[39;00m moves \u001b[38;5;28;01mif\u001b[39;00m \u001b[38;5;28;43mself\u001b[39;49m\u001b[38;5;241;43m.\u001b[39;49m\u001b[43mpseudo_is_legal\u001b[49m\u001b[43m(\u001b[49m\u001b[43mmove\u001b[49m\u001b[43m)\u001b[49m]\n",
      "File \u001b[0;32m~/Documents/lichess-bot/engines/ramen_chess/ramen_chess.py:651\u001b[0m, in \u001b[0;36mGame.pseudo_is_legal\u001b[0;34m(self, move)\u001b[0m\n\u001b[1;32m    649\u001b[0m \u001b[38;5;28;01massert\u001b[39;00m move\u001b[38;5;241m.\u001b[39mpiece\u001b[38;5;241m.\u001b[39mcolor \u001b[38;5;241m==\u001b[39m \u001b[38;5;28mself\u001b[39m\u001b[38;5;241m.\u001b[39mturn\n\u001b[1;32m    650\u001b[0m \u001b[38;5;28mself\u001b[39m\u001b[38;5;241m.\u001b[39mmove(move)\n\u001b[0;32m--> 651\u001b[0m next_moves \u001b[38;5;241m=\u001b[39m \u001b[38;5;28;43mself\u001b[39;49m\u001b[38;5;241;43m.\u001b[39;49m\u001b[43mpseudo_legal_moves\u001b[49m\u001b[43m(\u001b[49m\u001b[43m)\u001b[49m\n\u001b[1;32m    652\u001b[0m \u001b[38;5;28mself\u001b[39m\u001b[38;5;241m.\u001b[39mundo_move()\n\u001b[1;32m    653\u001b[0m \u001b[38;5;28;01mfor\u001b[39;00m next_move \u001b[38;5;129;01min\u001b[39;00m next_moves:\n",
      "File \u001b[0;32m~/Documents/lichess-bot/engines/ramen_chess/ramen_chess.py:636\u001b[0m, in \u001b[0;36mGame.pseudo_legal_moves\u001b[0;34m(self, color)\u001b[0m\n\u001b[1;32m    634\u001b[0m         piece \u001b[38;5;241m=\u001b[39m \u001b[38;5;28mself\u001b[39m\u001b[38;5;241m.\u001b[39mboard[col, row]\n\u001b[1;32m    635\u001b[0m         \u001b[38;5;28;01mif\u001b[39;00m piece \u001b[38;5;129;01mis\u001b[39;00m \u001b[38;5;129;01mnot\u001b[39;00m \u001b[38;5;28;01mNone\u001b[39;00m \u001b[38;5;129;01mand\u001b[39;00m piece\u001b[38;5;241m.\u001b[39mcolor \u001b[38;5;241m==\u001b[39m color:\n\u001b[0;32m--> 636\u001b[0m             moves \u001b[38;5;241m+\u001b[39m\u001b[38;5;241m=\u001b[39m \u001b[43mpiece\u001b[49m\u001b[38;5;241;43m.\u001b[39;49m\u001b[43mpseudo_legal_moves\u001b[49m\u001b[43m(\u001b[49m\u001b[38;5;28;43mself\u001b[39;49m\u001b[43m,\u001b[49m\u001b[43m \u001b[49m\u001b[43mSquare\u001b[49m\u001b[43m(\u001b[49m\u001b[43mcol\u001b[49m\u001b[43m,\u001b[49m\u001b[43m \u001b[49m\u001b[43mrow\u001b[49m\u001b[43m)\u001b[49m\u001b[43m)\u001b[49m\n\u001b[1;32m    637\u001b[0m \u001b[38;5;28;01mfor\u001b[39;00m i \u001b[38;5;129;01min\u001b[39;00m \u001b[38;5;28mrange\u001b[39m(\u001b[38;5;28mlen\u001b[39m(moves)):\n\u001b[1;32m    638\u001b[0m     moves[i]\u001b[38;5;241m.\u001b[39minterpret(\u001b[38;5;28mself\u001b[39m\u001b[38;5;241m.\u001b[39mboard)\n",
      "File \u001b[0;32m~/Documents/lichess-bot/engines/ramen_chess/ramen_chess.py:292\u001b[0m, in \u001b[0;36mKing.pseudo_legal_moves\u001b[0;34m(self, game, start)\u001b[0m\n\u001b[1;32m    290\u001b[0m move\u001b[38;5;241m=\u001b[39mMove(start, start \u001b[38;5;241m+\u001b[39m (\u001b[38;5;241m2\u001b[39m, \u001b[38;5;241m0\u001b[39m))\n\u001b[1;32m    291\u001b[0m game\u001b[38;5;241m.\u001b[39mmove(move)\n\u001b[0;32m--> 292\u001b[0m next_moves \u001b[38;5;241m=\u001b[39m \u001b[43mgame\u001b[49m\u001b[38;5;241;43m.\u001b[39;49m\u001b[43mpseudo_legal_moves\u001b[49m\u001b[43m(\u001b[49m\u001b[43m)\u001b[49m\n\u001b[1;32m    293\u001b[0m game\u001b[38;5;241m.\u001b[39mundo_move()\n\u001b[1;32m    294\u001b[0m short_path_is_safe \u001b[38;5;241m=\u001b[39m \u001b[38;5;28;01mTrue\u001b[39;00m\n",
      "File \u001b[0;32m~/Documents/lichess-bot/engines/ramen_chess/ramen_chess.py:636\u001b[0m, in \u001b[0;36mGame.pseudo_legal_moves\u001b[0;34m(self, color)\u001b[0m\n\u001b[1;32m    634\u001b[0m         piece \u001b[38;5;241m=\u001b[39m \u001b[38;5;28mself\u001b[39m\u001b[38;5;241m.\u001b[39mboard[col, row]\n\u001b[1;32m    635\u001b[0m         \u001b[38;5;28;01mif\u001b[39;00m piece \u001b[38;5;129;01mis\u001b[39;00m \u001b[38;5;129;01mnot\u001b[39;00m \u001b[38;5;28;01mNone\u001b[39;00m \u001b[38;5;129;01mand\u001b[39;00m piece\u001b[38;5;241m.\u001b[39mcolor \u001b[38;5;241m==\u001b[39m color:\n\u001b[0;32m--> 636\u001b[0m             moves \u001b[38;5;241m+\u001b[39m\u001b[38;5;241m=\u001b[39m \u001b[43mpiece\u001b[49m\u001b[38;5;241;43m.\u001b[39;49m\u001b[43mpseudo_legal_moves\u001b[49m\u001b[43m(\u001b[49m\u001b[38;5;28;43mself\u001b[39;49m\u001b[43m,\u001b[49m\u001b[43m \u001b[49m\u001b[43mSquare\u001b[49m\u001b[43m(\u001b[49m\u001b[43mcol\u001b[49m\u001b[43m,\u001b[49m\u001b[43m \u001b[49m\u001b[43mrow\u001b[49m\u001b[43m)\u001b[49m\u001b[43m)\u001b[49m\n\u001b[1;32m    637\u001b[0m \u001b[38;5;28;01mfor\u001b[39;00m i \u001b[38;5;129;01min\u001b[39;00m \u001b[38;5;28mrange\u001b[39m(\u001b[38;5;28mlen\u001b[39m(moves)):\n\u001b[1;32m    638\u001b[0m     moves[i]\u001b[38;5;241m.\u001b[39minterpret(\u001b[38;5;28mself\u001b[39m\u001b[38;5;241m.\u001b[39mboard)\n",
      "File \u001b[0;32m~/Documents/lichess-bot/engines/ramen_chess/ramen_chess.py:243\u001b[0m, in \u001b[0;36mBishop.pseudo_legal_moves\u001b[0;34m(self, game, start)\u001b[0m\n\u001b[1;32m    241\u001b[0m moves \u001b[38;5;241m=\u001b[39m []\n\u001b[1;32m    242\u001b[0m \u001b[38;5;28;01mfor\u001b[39;00m dpos \u001b[38;5;129;01min\u001b[39;00m [(\u001b[38;5;241m1\u001b[39m, \u001b[38;5;241m1\u001b[39m), (\u001b[38;5;241m-\u001b[39m\u001b[38;5;241m1\u001b[39m, \u001b[38;5;241m1\u001b[39m), (\u001b[38;5;241m1\u001b[39m, \u001b[38;5;241m-\u001b[39m\u001b[38;5;241m1\u001b[39m), (\u001b[38;5;241m-\u001b[39m\u001b[38;5;241m1\u001b[39m, \u001b[38;5;241m-\u001b[39m\u001b[38;5;241m1\u001b[39m)]:\n\u001b[0;32m--> 243\u001b[0m     moves \u001b[38;5;241m+\u001b[39m\u001b[38;5;241m=\u001b[39m \u001b[38;5;28;43mself\u001b[39;49m\u001b[38;5;241;43m.\u001b[39;49m\u001b[43mpseudo_legal_slide\u001b[49m\u001b[43m(\u001b[49m\u001b[43mgame\u001b[49m\u001b[38;5;241;43m.\u001b[39;49m\u001b[43mboard\u001b[49m\u001b[43m,\u001b[49m\u001b[43m \u001b[49m\u001b[43mstart\u001b[49m\u001b[43m,\u001b[49m\u001b[43m \u001b[49m\u001b[43mdpos\u001b[49m\u001b[43m)\u001b[49m\n\u001b[1;32m    244\u001b[0m \u001b[38;5;28;01mreturn\u001b[39;00m moves\n",
      "File \u001b[0;32m~/Documents/lichess-bot/engines/ramen_chess/ramen_chess.py:49\u001b[0m, in \u001b[0;36mPiece.pseudo_legal_slide\u001b[0;34m(self, board, start, dpos)\u001b[0m\n\u001b[1;32m     47\u001b[0m     \u001b[38;5;28;01melse\u001b[39;00m:\n\u001b[1;32m     48\u001b[0m         \u001b[38;5;28;01mraise\u001b[39;00m \u001b[38;5;167;01mValueError\u001b[39;00m(\u001b[38;5;124mf\u001b[39m\u001b[38;5;124m\"\u001b[39m\u001b[38;5;124mInvalid piece name: \u001b[39m\u001b[38;5;132;01m{\u001b[39;00mname\u001b[38;5;132;01m}\u001b[39;00m\u001b[38;5;124m\"\u001b[39m)\n\u001b[0;32m---> 49\u001b[0m \u001b[38;5;28;01mdef\u001b[39;00m \u001b[38;5;21mpseudo_legal_slide\u001b[39m(\u001b[38;5;28mself\u001b[39m, board, start, dpos):\n\u001b[1;32m     50\u001b[0m     \u001b[38;5;124;03m\"\"\" Return a list of pseudo-legal sliding moves in the direction dpos. \"\"\"\u001b[39;00m\n\u001b[1;32m     51\u001b[0m     moves \u001b[38;5;241m=\u001b[39m []\n",
      "\u001b[0;31mKeyboardInterrupt\u001b[0m: "
     ]
    }
   ],
   "source": [
    "fen=\"r3kb1r/ppP2ppp/5n2/4q3/3n4/2NBB3/PPP1NPbP/R2QK2R b KQkq - 5 11\"\n",
    "engine=Engine(Position.from_fen(fen))\n",
    "print(engine.game.board)\n",
    "move,score=engine.best_move(depth=2,display=True)\n",
    "print(\"Best move:\", move)"
   ]
  }
 ],
 "metadata": {
  "kernelspec": {
   "display_name": "base",
   "language": "python",
   "name": "python3"
  },
  "language_info": {
   "codemirror_mode": {
    "name": "ipython",
    "version": 3
   },
   "file_extension": ".py",
   "mimetype": "text/x-python",
   "name": "python",
   "nbconvert_exporter": "python",
   "pygments_lexer": "ipython3",
   "version": "3.9.12"
  }
 },
 "nbformat": 4,
 "nbformat_minor": 5
}
