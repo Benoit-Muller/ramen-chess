{
 "cells": [
  {
   "cell_type": "code",
   "execution_count": 47,
   "metadata": {},
   "outputs": [
    {
     "data": {
      "text/plain": [
       "<module 'ramen_chess' from '/Users/benoitmuller/Documents/lichess-bot/engines/ramen_chess/ramen_chess.py'>"
      ]
     },
     "execution_count": 47,
     "metadata": {},
     "output_type": "execute_result"
    }
   ],
   "source": [
    "import ramen_chess\n",
    "from ramen_chess import *\n",
    "import chess\n",
    "import random\n",
    "import importlib\n",
    "importlib.reload(ramen_chess)"
   ]
  },
  {
   "cell_type": "code",
   "execution_count": 48,
   "metadata": {},
   "outputs": [
    {
     "name": "stdout",
     "output_type": "stream",
     "text": [
      "Testing Square class\n",
      "Testing Move class\n",
      "Testing Board class\n",
      "fastest mate:\n",
      "8 | ♜ ♞ ♝ . ♚ ♝ ♞ ♜ \n",
      "7 | ♟ ♟ ♟ ♟ . ♟ ♟ ♟ \n",
      "6 | . . . . ♟ . . . \n",
      "5 | . . . . . . . . \n",
      "4 | . . . . . . ♙ ♛ \n",
      "3 | . . . . . ♙ . . \n",
      "2 | ♙ ♙ ♙ ♙ ♙ . . ♙ \n",
      "1 | ♖ ♘ ♗ ♕ ♔ ♗ ♘ ♖ \n",
      "   ––––––––––––––––\n",
      "    a b c d e f g h\n",
      "Testing Game class\n",
      "1. Pf2f3 Pe7e6 2. Pg2g4 Qd8h4 \n",
      "8 | ♜ ♞ ♝ . ♚ ♝ ♞ ♜ \n",
      "7 | ♟ ♟ ♟ ♟ . ♟ ♟ ♟ \n",
      "6 | . . . . ♟ . . . \n",
      "5 | . . . . . . . . \n",
      "4 | . . . . . . ♙ ♛ \n",
      "3 | . . . . . ♙ . . \n",
      "2 | ♙ ♙ ♙ ♙ ♙ . . ♙ \n",
      "1 | ♖ ♘ ♗ ♕ ♔ ♗ ♘ ♖ \n",
      "   ––––––––––––––––\n",
      "    a b c d e f g h\n",
      "Checkmate.\n",
      "Pa2a3 Pa2a4 Nb1c3 Nb1a3 Pb2b3 Pb2b4 Pc2c3 Pc2c4 Pd2d3 Pd2d4 Ke1f2 Pe2e3 Pe2e4 Bf1g2 Bf1h3 Pf3f4 Ng1h3 Pg4g5 Ph2h3\n",
      "Pf2f3 Pe7e6 Pg2g4 Qd8h4\n",
      "1. Pf2f3 Pe7e6 2. Pg2g4 \n",
      "8 | ♜ ♞ ♝ ♛ ♚ ♝ ♞ ♜ \n",
      "7 | ♟ ♟ ♟ ♟ . ♟ ♟ ♟ \n",
      "6 | . . . . ♟ . . . \n",
      "5 | . . . . . . . . \n",
      "4 | . . . . . . ♙ . \n",
      "3 | . . . . . ♙ . . \n",
      "2 | ♙ ♙ ♙ ♙ ♙ . . ♙ \n",
      "1 | ♖ ♘ ♗ ♕ ♔ ♗ ♘ ♖ \n",
      "   ––––––––––––––––\n",
      "    a b c d e f g h\n",
      "Black to move.\n",
      "8 | ♜ ♞ ♝ . ♚ ♝ ♞ ♜ \n",
      "7 | ♟ ♟ ♟ ♟ . ♟ ♟ ♟ \n",
      "6 | . . . . ♟ . . . \n",
      "5 | . . . . . . . . \n",
      "4 | . . . . . . ♙ ♛ \n",
      "3 | . . . . . ♙ . . \n",
      "2 | ♙ ♙ ♙ ♙ ♙ . . ♙ \n",
      "1 | ♖ ♘ ♗ ♕ ♔ ♗ ♘ ♖ \n",
      "   ––––––––––––––––\n",
      "    a b c d e f g h\n",
      "rnb1kbnr/pppp1ppp/4p3/8/6Pq/5P2/PPPPP2P/RNBQKBNR\n",
      "All tests passed\n"
     ]
    }
   ],
   "source": [
    "# Test the Square class\n",
    "print(\"Testing Square class\")\n",
    "pos1= ramen_chess.Square(4,3)\n",
    "pos2= ramen_chess.Square(\"e\",\"4\")\n",
    "assert pos1 == pos2\n",
    "assert str(pos1) == \"e4\"\n",
    "pos3 = pos1 + (1,1)\n",
    "assert pos3 == ramen_chess.Square(5,4)\n",
    "pos4 = ramen_chess.Square(pos1[0], pos1[1])\n",
    "assert pos4 == pos1\n",
    "\n",
    "# Test the Move class\n",
    "print(\"Testing Move class\")\n",
    "move1 = ramen_chess.Move(pos1, pos3)\n",
    "move2 = ramen_chess.Move(\"e4\", \"f5\")\n",
    "assert move1 == move2\n",
    "assert str(move1) == \"e4f5\"\n",
    "\n",
    "# Test the Board class\n",
    "print(\"Testing Board class\")\n",
    "board = ramen_chess.Board()\n",
    "board.set_starting_position()\n",
    "assert board[0,0].name == \"R\"\n",
    "#print(\"initial position:\")\n",
    "#print(board)\n",
    "board.move(\"f2f3\")\n",
    "board.move(\"e7e6\")\n",
    "board.move(\"g2g4\")\n",
    "print(\"fastest mate:\")\n",
    "board.move(\"d8h4\",show=True)\n",
    "\n",
    "print(\"Testing Game class\")\n",
    "game = ramen_chess.Game()\n",
    "game.move(\"f2f3\")\n",
    "game.move(\"e7e6\")\n",
    "game.move(\"g2g4\")\n",
    "game.move(\"d8h4\")\n",
    "print(game)\n",
    "moves= game.pseudo_legal_moves()\n",
    "print(*moves)\n",
    "print(*game.moves)\n",
    "game.undo_move()\n",
    "print(game)\n",
    "board = ramen_chess.Board.from_fen(\"rnb1kbnr/pppp1ppp/1111p111/11111111/111111Pq/11111P11/PPPPP11P/RNBQKBNR\")\n",
    "print(board)\n",
    "print(board.fen())\n",
    "\n",
    "print(\"All tests passed\")"
   ]
  },
  {
   "cell_type": "code",
   "execution_count": 49,
   "metadata": {},
   "outputs": [],
   "source": [
    "# test game\n",
    "# the interactive mode\n",
    "game = ramen_chess.Game()\n",
    "#game.play_interactive()\n",
    "# 1. Pe2e4 Pe7e5 2. Ng1f3 Nb8c6 3. Bf1c4 Bf8c5 4. O-O "
   ]
  },
  {
   "cell_type": "code",
   "execution_count": 51,
   "metadata": {},
   "outputs": [
    {
     "name": "stdout",
     "output_type": "stream",
     "text": [
      "1. Ng1h3 Pa7a5 2. Nb1c3 Pa5a4 3. Nh3g1 Pe7e5 4. Pd2d3 Pb7b5 5. Pb2b4 Qd8f6 6. Bc1d2 Ra8a6 7. Ra1c1 Qf6b6 8. Pf2f3 Pd7d5 9. Pd3d4 Ra6a8 10. Pd4xe5 Pg7g6 11. Bd2f4 Ng8h6 12. Bf4g5 Pc7c5 13. Bg5f4 Pf7f5 14. Ke1d2 Ra8a6 15. Bf4e3 Qb6c6 16. Pe5e6 Ra6a8 17. Pa2a3 Bc8xe6 18. Ng1h3 Qc6b7 19. Be3f4 Ke8d7 20. Nc3xb5 Nh6g4 21. Rc1b1 Bf8e7 22. Bf4c7 Be7h4 23. Pg2g3 Pf5f4 24. Kd2e1 Ph7h6 25. Bc7xb8 Rh8c8 26. Pc2c3 Qb7c7 27. Rb1a1 Kd7c6 28. Pb4xc5 Bh4f6 29. Bb8a7 Qc7d8 30. Qd1b3 Rc8c7 31. Ba7b6 Rc7c8 32. Qb3xd5 Kc6xd5 33. Ra1a2 Bf6h4 34. Pf3xg4 Pf4xg3 35. Nh3g5 Qd8c7 36. Ke1d2 Qc7b8 37. Kd2d1 Rc8c6 38. Nb5a7 Qb8b7 39. Ra2c2 Rc6c7 40. Bb6xc7 Be6c8 41. Bf1g2 Kd5c4 42. Ng5f3 Qb7b1 43. Kd1d2 Pg6g5 44. Bc7d6 Qb1c1 45. Rh1xc1 Ph6h5 46. Bg2h1 Kc4d5 47. Rc1f1 Ph5xg4 48. Kd2e3 Kd5e6 49. Rf1c1 Bc8b7 50. Bd6c7 Ke6e7 51. Na7c8 Ke7f6 52. Ph2h3 Bb7xf3 53. Bc7d6 Pg3g2 54. Ph3xg4 Pg2xh1=B 55. Rc1xh1 Bf3b7 56. Nc8a7 Ra8xa7 57. Rc2b2 Bb7c8 58. Rb2b7 Bc8f5 59. Rh1f1 Ra7xb7 60. Bd6h2 Kf6e6 61. Rf1d1 Rb7a7 62. Bh2g1 Bf5c2 63. Ke3f3 Ra7a6 64. Rd1d3 Bh4e1 65. Rd3d6 Ke6f7 66. Rd6xa6 Be1h4 67. Ra6b6 Kf7f8 68. Rb6g6 Bc2xg6 69. Bg1e3 Bg6h7 70. Pc3c4 Bh4e1 71. Kf3g2 Kf8g7 72. Kg2g1 Bh7e4 73. Kg1f1 Be4g2 74. Kf1xg2 Kg7f8 75. Be3f4 Be1c3 76. Kg2f3 Bc3a5 77. Kf3g3 Ba5e1 78. Kg3h3 Kf8e8 79. Pc5c6 Ke8f8 80. Bf4xg5 Be1g3 81. Pc6c7 Bg3xc7 82. Bg5e3 Bc7e5 83. Kh3g2 Be5d6 84. Be3b6 Bd6e7 85. Bb6d8 Kf8g8 86. Kg2h3 Be7g5 87. Pe2e4 Bg5f4 88. Kh3h4 Kg8f7 89. Bd8c7 Bf4g5 90. Kh4h3 Kf7g6 91. Bc7h2 Bg5e7 92. Kh3g2 Kg6h6 93. Pe4e5 Kh6g6 94. Pc4c5 Be7d8 95. Kg2f2 Bd8a5 96. Kf2e3 Ba5e1 97. Pe5e6 Kg6g7 98. Bh2b8 Kg7g8 99. Bb8e5 Be1d2 100. Ke3f2 Kg8f8 \n"
     ]
    }
   ],
   "source": [
    "# test game\n",
    "for repeat in range(1):\n",
    "    game = ramen_chess.Game()\n",
    "    for i in range(200):\n",
    "        p_board = chess.Board(game.fen())\n",
    "        fen = game.fen()\n",
    "        p_fen = p_board.fen(en_passant=\"fen\")\n",
    "        try:\n",
    "            assert fen == p_fen\n",
    "        except:\n",
    "            print(fen+\"\\n=?=\\n\"+p_fen)\n",
    "        moves = game.legal_moves()\n",
    "        moves_uci = {move.uci() for move in moves}\n",
    "        p_moves_uci = {move.uci() for move in p_board.legal_moves}\n",
    "        try:\n",
    "            assert moves_uci == p_moves_uci\n",
    "        except:\n",
    "            print(game.board)\n",
    "            print(game.fen())\n",
    "            print(*moves_uci)\n",
    "            print(*p_moves_uci)\n",
    "            print(moves_uci - p_moves_uci)\n",
    "            print(p_moves_uci - moves_uci)\n",
    "            break\n",
    "        if moves == []:\n",
    "            if game.is_check():\n",
    "                print(\"Checkmate:\")\n",
    "            else:\n",
    "                print(\"Stalemate:\")\n",
    "            break\n",
    "        else:\n",
    "            game.move(random.choice(moves))\n",
    "    print(game.pgn())"
   ]
  },
  {
   "cell_type": "code",
   "execution_count": null,
   "metadata": {},
   "outputs": [
    {
     "name": "stdout",
     "output_type": "stream",
     "text": [
      "r6r/p1pq3k/np2p2p/4Pp2/3P4/P1P1B3/5P1P/1QK3R1 w - f6 0 24\n",
      "[Variant \"From Position\"]\n",
      "[FEN \"r6r/p1pq3k/np2p2p/4Pp2/3P4/P1P1B3/5P1P/1QK3R1 w - f6 0 24\"]\n",
      "\n",
      "\n",
      "8 | ♜ . . . . . . ♜ \n",
      "7 | ♟ . ♟ ♛ . . . ♚ \n",
      "6 | ♞ ♟ . . ♟ . . ♟ \n",
      "5 | . . . . ♙ ♟ . . \n",
      "4 | . . . ♙ . . . . \n",
      "3 | ♙ . ♙ . ♗ . . . \n",
      "2 | . . . . . ♙ . ♙ \n",
      "1 | . ♕ ♔ . . . ♖ . \n",
      "   ––––––––––––––––\n",
      "    a b c d e f g h\n",
      "White to move.\n",
      "Pa3a4 Qb1a1 Qb1a2 Qb1b2 Qb1b3 Qb1b4 Qb1b5 Qb1xb6 Qb1c2 Qb1d3 Qb1e4 Qb1xf5 Kc1b2 Kc1c2 Kc1d1 Kc1d2 Pc3c4 Pd4d5 Be3f4 Be3g5 Be3xh6 Be3d2 Pe5xf6 Pf2f3 Pf2f4 Rg1h1 Rg1f1 Rg1e1 Rg1d1 Rg1g2 Rg1g3 Rg1g4 Rg1g5 Rg1g6 Rg1g7 Rg1g8 Ph2h3 Ph2h4\n",
      "Pa3a4 Qb1a1 Qb1a2 Qb1b2 Qb1b3 Qb1b4 Qb1b5 Qb1xb6 Qb1c2 Qb1d3 Qb1e4 Qb1xf5 Kc1b2 Kc1c2 Kc1d1 Kc1d2 Pc3c4 Pd4d5 Be3f4 Be3g5 Be3xh6 Be3d2 Pe5f6 Pf2f3 Pf2f4 Rg1h1 Rg1f1 Rg1e1 Rg1d1 Rg1g2 Rg1g3 Rg1g4 Rg1g5 Rg1g6 Rg1g7 Rg1g8 Ph2h3 Ph2h4\n"
     ]
    }
   ],
   "source": [
    "position=Position.from_fen(\"r6r/p1pq3k/np2p2p/4Pp2/3P4/P1P1B3/5P1P/1QK3R1 w - f6 0 24\")\n",
    "game=Game(position)\n",
    "print(position)\n",
    "print(game)\n",
    "print(*game.pseudo_legal_moves())\n",
    "print(*game.legal_moves())"
   ]
  },
  {
   "cell_type": "code",
   "execution_count": null,
   "metadata": {},
   "outputs": [],
   "source": [
    "# test the check, checkmate, stalemate\n",
    "fen = \"r1b3n1/p2k4/1ppPpp1b/4Pq2/PP1P4/N1n3Pp/5R1P/3KNB1R w - - 5 26\"\n",
    "game=Game(fen)\n",
    "assert game.is_check()\n",
    "assert game.is_checkmate()\n",
    "# stalemate:\n",
    "fen = \"k7/2Q5/8/8/8/8/8/4K3 b - - 0 1\"\n",
    "game=Game(fen)\n",
    "assert not game.is_check()\n",
    "assert game.is_stalemate()"
   ]
  },
  {
   "cell_type": "code",
   "execution_count": null,
   "metadata": {},
   "outputs": [
    {
     "name": "stdout",
     "output_type": "stream",
     "text": [
      "8 | . . . . . . . . \n",
      "7 | . ♚ . ♙ . . . . \n",
      "6 | . . . . . . . . \n",
      "5 | . . . . . . . . \n",
      "4 | . . . . . . . . \n",
      "3 | . . . . . . . . \n",
      "2 | . ♔ . . . . . . \n",
      "1 | . . . . . . . . \n",
      "   ––––––––––––––––\n",
      "    a b c d e f g h\n",
      "Kb2a1 Kb2a2 Kb2a3 Kb2b1 Kb2b3 Kb2c1 Kb2c2 Kb2c3 Pd7d8=Q Pd7d8=R Pd7d8=B Pd7d8=N\n"
     ]
    }
   ],
   "source": [
    "# test promotion\n",
    "fen=\"8/1k1P4/8/8/8/8/1K6/8 w - - 0 1\"\n",
    "game = Game(fen)\n",
    "print(game.board)\n",
    "print(*game.legal_moves())\n"
   ]
  }
 ],
 "metadata": {
  "kernelspec": {
   "display_name": "base",
   "language": "python",
   "name": "python3"
  },
  "language_info": {
   "codemirror_mode": {
    "name": "ipython",
    "version": 3
   },
   "file_extension": ".py",
   "mimetype": "text/x-python",
   "name": "python",
   "nbconvert_exporter": "python",
   "pygments_lexer": "ipython3",
   "version": "3.9.12"
  }
 },
 "nbformat": 4,
 "nbformat_minor": 2
}
