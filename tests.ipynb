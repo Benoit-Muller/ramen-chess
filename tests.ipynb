{
 "cells": [
  {
   "cell_type": "code",
   "execution_count": 6,
   "metadata": {},
   "outputs": [
    {
     "name": "stdout",
     "output_type": "stream",
     "text": [
      "Testing Position class\n",
      "Testing Move class\n",
      "Testing Board class\n",
      "initial position:\n",
      "8 | ♜ ♞ ♝ ♛ ♚ ♝ ♞ ♜ \n",
      "7 | ♟ ♟ ♟ ♟ ♟ ♟ ♟ ♟ \n",
      "6 | . . . . . . . . \n",
      "5 | . . . . . . . . \n",
      "4 | . . . . . . . . \n",
      "3 | . . . . . . . . \n",
      "2 | ♙ ♙ ♙ ♙ ♙ ♙ ♙ ♙ \n",
      "1 | ♖ ♘ ♗ ♕ ♔ ♗ ♘ ♖ \n",
      "   ––––––––––––––––\n",
      "    a b c d e f g h\n",
      "fastest mate:\n",
      "8 | ♜ ♞ ♝ . ♚ ♝ ♞ ♜ \n",
      "7 | ♟ ♟ ♟ ♟ . ♟ ♟ ♟ \n",
      "6 | . . . . ♟ . . . \n",
      "5 | . . . . . . . . \n",
      "4 | . . . . . . ♙ ♛ \n",
      "3 | . . . . . ♙ . . \n",
      "2 | ♙ ♙ ♙ ♙ ♙ . . ♙ \n",
      "1 | ♖ ♘ ♗ ♕ ♔ ♗ ♘ ♖ \n",
      "   ––––––––––––––––\n",
      "    a b c d e f g h\n",
      "a2a3 a2a4 b1c3 b1a3 b2b3 b2b4 c2c3 c2c4 d2d3 d2d4 e1f2 e2e3 e2e4 f1g2 f1h3 f3f4 g1h3 g4g5 h2h3\n",
      "All tests passed\n"
     ]
    }
   ],
   "source": [
    "import chess\n",
    "import importlib\n",
    "importlib.reload(chess)\n",
    "\n",
    "# Test the Position class\n",
    "print(\"Testing Position class\")\n",
    "pos1= chess.Position(4,3)\n",
    "pos2= chess.Position(\"e\",\"4\")\n",
    "assert pos1 == pos2\n",
    "assert str(pos1) == \"e4\"\n",
    "pos3 = pos1 + (1,1)\n",
    "assert pos3 == chess.Position(5,4)\n",
    "pos4 = chess.Position(pos1[0], pos1[1])\n",
    "assert pos4 == pos1\n",
    "\n",
    "# Test the Move class\n",
    "print(\"Testing Move class\")\n",
    "move1 = chess.Move(pos1, pos3)\n",
    "move2 = chess.Move(\"e4\", \"f5\")\n",
    "assert move1 == move2\n",
    "assert str(move1) == \"e4f5\"\n",
    "\n",
    "# Test the Board class\n",
    "print(\"Testing Board class\")\n",
    "board = chess.Board()\n",
    "board.set_starting_position()\n",
    "assert board[0,0].name == \"R\"\n",
    "print(\"initial position:\")\n",
    "print(board)\n",
    "board.move(\"f2f3\")\n",
    "board.move(\"e7e6\")\n",
    "board.move(\"g2g4\")\n",
    "print(\"fastest mate:\")\n",
    "board.move(\"d8h4\",show=True)\n",
    "print(*board.pseudo_legal_moves(chess.WHITE))\n",
    "\n",
    "print(\"All tests passed\")"
   ]
  }
 ],
 "metadata": {
  "kernelspec": {
   "display_name": "base",
   "language": "python",
   "name": "python3"
  },
  "language_info": {
   "codemirror_mode": {
    "name": "ipython",
    "version": 3
   },
   "file_extension": ".py",
   "mimetype": "text/x-python",
   "name": "python",
   "nbconvert_exporter": "python",
   "pygments_lexer": "ipython3",
   "version": "3.9.12"
  }
 },
 "nbformat": 4,
 "nbformat_minor": 2
}
