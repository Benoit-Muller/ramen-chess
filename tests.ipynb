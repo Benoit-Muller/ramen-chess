{
 "cells": [
  {
   "cell_type": "code",
   "execution_count": 80,
   "metadata": {},
   "outputs": [
    {
     "data": {
      "text/plain": [
       "<module 'chess' from '/Users/benoitmuller/Documents/GitHub/chess/chess.py'>"
      ]
     },
     "execution_count": 80,
     "metadata": {},
     "output_type": "execute_result"
    }
   ],
   "source": [
    "import chess\n",
    "import random\n",
    "import importlib\n",
    "importlib.reload(chess)"
   ]
  },
  {
   "cell_type": "code",
   "execution_count": null,
   "metadata": {},
   "outputs": [
    {
     "name": "stdout",
     "output_type": "stream",
     "text": [
      "Testing Square class\n",
      "Testing Move class\n",
      "Testing Board class\n",
      "fastest mate:\n",
      "8 | ♜ ♞ ♝ . ♚ ♝ ♞ ♜ \n",
      "7 | ♟ ♟ ♟ ♟ . ♟ ♟ ♟ \n",
      "6 | . . . . ♟ . . . \n",
      "5 | . . . . . . . . \n",
      "4 | . . . . . . ♙ ♛ \n",
      "3 | . . . . . ♙ . . \n",
      "2 | ♙ ♙ ♙ ♙ ♙ . . ♙ \n",
      "1 | ♖ ♘ ♗ ♕ ♔ ♗ ♘ ♖ \n",
      "   ––––––––––––––––\n",
      "    a b c d e f g h\n",
      "Testing Game class\n",
      "1. Pf2f3 Pe7e6 2. Pg2g4 Qd8h4 \n",
      "8 | ♜ ♞ ♝ . ♚ ♝ ♞ ♜ \n",
      "7 | ♟ ♟ ♟ ♟ . ♟ ♟ ♟ \n",
      "6 | . . . . ♟ . . . \n",
      "5 | . . . . . . . . \n",
      "4 | . . . . . . ♙ ♛ \n",
      "3 | . . . . . ♙ . . \n",
      "2 | ♙ ♙ ♙ ♙ ♙ . . ♙ \n",
      "1 | ♖ ♘ ♗ ♕ ♔ ♗ ♘ ♖ \n",
      "   ––––––––––––––––\n",
      "    a b c d e f g h\n",
      "White to move.\n",
      "Pa2a3 Pa2a4 Nb1c3 Nb1a3 Pb2b3 Pb2b4 Pc2c3 Pc2c4 Pd2d3 Pd2d4 Ke1f2 Pe2e3 Pe2e4 Bf1g2 Bf1h3 Pf3f4 Ng1h3 Pg4g5 Ph2h3\n",
      "Pf2f3 Pe7e6 Pg2g4 Qd8h4\n",
      "1. Pf2f3 Pe7e6 2. Pg2g4 \n",
      "8 | ♜ ♞ ♝ ♛ ♚ ♝ ♞ ♜ \n",
      "7 | ♟ ♟ ♟ ♟ . ♟ ♟ ♟ \n",
      "6 | . . . . ♟ . . . \n",
      "5 | . . . . . . . . \n",
      "4 | . . . . . . ♙ . \n",
      "3 | . . . . . ♙ . . \n",
      "2 | ♙ ♙ ♙ ♙ ♙ . . ♙ \n",
      "1 | ♖ ♘ ♗ ♕ ♔ ♗ ♘ ♖ \n",
      "   ––––––––––––––––\n",
      "    a b c d e f g h\n",
      "Black to move.\n",
      "All tests passed\n"
     ]
    }
   ],
   "source": [
    "# Test the Square class\n",
    "print(\"Testing Square class\")\n",
    "pos1= chess.Square(4,3)\n",
    "pos2= chess.Square(\"e\",\"4\")\n",
    "assert pos1 == pos2\n",
    "assert str(pos1) == \"e4\"\n",
    "pos3 = pos1 + (1,1)\n",
    "assert pos3 == chess.Square(5,4)\n",
    "pos4 = chess.Square(pos1[0], pos1[1])\n",
    "assert pos4 == pos1\n",
    "\n",
    "# Test the Move class\n",
    "print(\"Testing Move class\")\n",
    "move1 = chess.Move(pos1, pos3)\n",
    "move2 = chess.Move(\"e4\", \"f5\")\n",
    "assert move1 == move2\n",
    "assert str(move1) == \"e4f5\"\n",
    "\n",
    "# Test the Board class\n",
    "print(\"Testing Board class\")\n",
    "board = chess.Board()\n",
    "board.set_starting_position()\n",
    "assert board[0,0].name == \"R\"\n",
    "#print(\"initial position:\")\n",
    "#print(board)\n",
    "board.move(\"f2f3\")\n",
    "board.move(\"e7e6\")\n",
    "board.move(\"g2g4\")\n",
    "print(\"fastest mate:\")\n",
    "board.move(\"d8h4\",show=True)\n",
    "\n",
    "print(\"Testing Game class\")\n",
    "game = chess.Game()\n",
    "game.move(\"f2f3\")\n",
    "game.move(\"e7e6\")\n",
    "game.move(\"g2g4\")\n",
    "game_bis = game.copy()\n",
    "assert game == game_bis\n",
    "game.move(\"d8h4\")\n",
    "print(game)\n",
    "moves= game.pseudo_legal_moves()\n",
    "print(*moves)\n",
    "print(*game.moves)\n",
    "game.undo_move()\n",
    "assert game == game_bis\n",
    "print(game)\n",
    "\n",
    "print(\"All tests passed\")\n"
   ]
  },
  {
   "cell_type": "code",
   "execution_count": null,
   "metadata": {},
   "outputs": [
    {
     "name": "stdout",
     "output_type": "stream",
     "text": [
      "Game starting, to end game type 'exit'.\n",
      "\n",
      "8 | ♜ ♞ ♝ ♛ ♚ ♝ ♞ ♜ \n",
      "7 | ♟ ♟ ♟ ♟ ♟ ♟ ♟ ♟ \n",
      "6 | . . . . . . . . \n",
      "5 | . . . . . . . . \n",
      "4 | . . . . . . . . \n",
      "3 | . . . . . . . . \n",
      "2 | ♙ ♙ ♙ ♙ ♙ ♙ ♙ ♙ \n",
      "1 | ♖ ♘ ♗ ♕ ♔ ♗ ♘ ♖ \n",
      "   ––––––––––––––––\n",
      "    a b c d e f g h\n",
      "White to move.\n",
      "Possible moves: Pa2a3 Pa2a4 Nb1c3 Nb1a3 Pb2b3 Pb2b4 Pc2c3 Pc2c4 Pd2d3 Pd2d4 Pe2e3 Pe2e4 Pf2f3 Pf2f4 Ng1h3 Ng1f3 Pg2g3 Pg2g4 Ph2h3 Ph2h4\n",
      "1. Pe2e4 \n",
      "8 | ♜ ♞ ♝ ♛ ♚ ♝ ♞ ♜ \n",
      "7 | ♟ ♟ ♟ ♟ ♟ ♟ ♟ ♟ \n",
      "6 | . . . . . . . . \n",
      "5 | . . . . . . . . \n",
      "4 | . . . . ♙ . . . \n",
      "3 | . . . . . . . . \n",
      "2 | ♙ ♙ ♙ ♙ . ♙ ♙ ♙ \n",
      "1 | ♖ ♘ ♗ ♕ ♔ ♗ ♘ ♖ \n",
      "   ––––––––––––––––\n",
      "    a b c d e f g h\n",
      "Black to move.\n",
      "Possible moves: Pa7a6 Pa7a5 Pb7b6 Pb7b5 Nb8a6 Nb8c6 Pc7c6 Pc7c5 Pd7d6 Pd7d5 Pe7e6 Pe7e5 Pf7f6 Pf7f5 Pg7g6 Pg7g5 Ng8f6 Ng8h6 Ph7h6 Ph7h5\n",
      "1. Pe2e4 Pe7e5 \n",
      "8 | ♜ ♞ ♝ ♛ ♚ ♝ ♞ ♜ \n",
      "7 | ♟ ♟ ♟ ♟ . ♟ ♟ ♟ \n",
      "6 | . . . . . . . . \n",
      "5 | . . . . ♟ . . . \n",
      "4 | . . . . ♙ . . . \n",
      "3 | . . . . . . . . \n",
      "2 | ♙ ♙ ♙ ♙ . ♙ ♙ ♙ \n",
      "1 | ♖ ♘ ♗ ♕ ♔ ♗ ♘ ♖ \n",
      "   ––––––––––––––––\n",
      "    a b c d e f g h\n",
      "White to move.\n",
      "Possible moves: Pa2a3 Pa2a4 Nb1c3 Nb1a3 Pb2b3 Pb2b4 Pc2c3 Pc2c4 Qd1e2 Qd1f3 Qd1g4 Qd1h5 Pd2d3 Pd2d4 Ke1e2 Bf1e2 Bf1d3 Bf1c4 Bf1b5 Bf1a6 Pf2f3 Pf2f4 Ng1h3 Ng1f3 Ng1e2 Pg2g3 Pg2g4 Ph2h3 Ph2h4\n"
     ]
    },
    {
     "ename": "ValueError",
     "evalue": "invalid literal for int() with base 10: 's'",
     "output_type": "error",
     "traceback": [
      "\u001b[0;31m---------------------------------------------------------------------------\u001b[0m",
      "\u001b[0;31mValueError\u001b[0m                                Traceback (most recent call last)",
      "Input \u001b[0;32mIn [79]\u001b[0m, in \u001b[0;36m<cell line: 5>\u001b[0;34m()\u001b[0m\n\u001b[1;32m      3\u001b[0m importlib\u001b[38;5;241m.\u001b[39mreload(chess)\n\u001b[1;32m      4\u001b[0m game \u001b[38;5;241m=\u001b[39m chess\u001b[38;5;241m.\u001b[39mGame()\n\u001b[0;32m----> 5\u001b[0m \u001b[43mgame\u001b[49m\u001b[38;5;241;43m.\u001b[39;49m\u001b[43mplay_interactive\u001b[49m\u001b[43m(\u001b[49m\u001b[43m)\u001b[49m\n",
      "File \u001b[0;32m~/Documents/GitHub/chess/chess.py:515\u001b[0m, in \u001b[0;36mGame.play_interactive\u001b[0;34m(self)\u001b[0m\n\u001b[1;32m    513\u001b[0m     \u001b[38;5;28mself\u001b[39m\u001b[38;5;241m.\u001b[39mmove(random\u001b[38;5;241m.\u001b[39mchoice(moves))\n\u001b[1;32m    514\u001b[0m \u001b[38;5;28;01melse\u001b[39;00m:\n\u001b[0;32m--> 515\u001b[0m     \u001b[38;5;28;43mself\u001b[39;49m\u001b[38;5;241;43m.\u001b[39;49m\u001b[43mmove\u001b[49m\u001b[43m(\u001b[49m\u001b[43mmove\u001b[49m\u001b[43m)\u001b[49m\n\u001b[1;32m    516\u001b[0m \u001b[38;5;28mprint\u001b[39m(\u001b[38;5;28mself\u001b[39m)\n",
      "File \u001b[0;32m~/Documents/GitHub/chess/chess.py:385\u001b[0m, in \u001b[0;36mGame.move\u001b[0;34m(self, move)\u001b[0m\n\u001b[1;32m    384\u001b[0m \u001b[38;5;28;01mdef\u001b[39;00m \u001b[38;5;21mmove\u001b[39m(\u001b[38;5;28mself\u001b[39m, move):\n\u001b[0;32m--> 385\u001b[0m     move \u001b[38;5;241m=\u001b[39m \u001b[38;5;28;43mself\u001b[39;49m\u001b[38;5;241;43m.\u001b[39;49m\u001b[43mboard\u001b[49m\u001b[38;5;241;43m.\u001b[39;49m\u001b[43mmove\u001b[49m\u001b[43m(\u001b[49m\u001b[43mmove\u001b[49m\u001b[43m)\u001b[49m\n\u001b[1;32m    386\u001b[0m     \u001b[38;5;28mself\u001b[39m\u001b[38;5;241m.\u001b[39mmoves\u001b[38;5;241m.\u001b[39mappend(move)\n\u001b[1;32m    387\u001b[0m     \u001b[38;5;66;03m# TODO: check if move is legal, rigth turn, etc.\u001b[39;00m\n",
      "File \u001b[0;32m~/Documents/GitHub/chess/chess.py:300\u001b[0m, in \u001b[0;36mBoard.move\u001b[0;34m(self, move, show)\u001b[0m\n\u001b[1;32m    298\u001b[0m \u001b[38;5;28;01mdef\u001b[39;00m \u001b[38;5;21mmove\u001b[39m(\u001b[38;5;28mself\u001b[39m, move, show\u001b[38;5;241m=\u001b[39m\u001b[38;5;28;01mFalse\u001b[39;00m):\n\u001b[1;32m    299\u001b[0m     \u001b[38;5;28;01mif\u001b[39;00m \u001b[38;5;28misinstance\u001b[39m(move, \u001b[38;5;28mstr\u001b[39m):\n\u001b[0;32m--> 300\u001b[0m         move \u001b[38;5;241m=\u001b[39m \u001b[43mMove\u001b[49m\u001b[38;5;241;43m.\u001b[39;49m\u001b[43mfrom_string\u001b[49m\u001b[43m(\u001b[49m\u001b[43mmove\u001b[49m\u001b[43m)\u001b[49m\n\u001b[1;32m    301\u001b[0m     move\u001b[38;5;241m.\u001b[39minterpret(\u001b[38;5;28mself\u001b[39m)\n\u001b[1;32m    302\u001b[0m     capture \u001b[38;5;241m=\u001b[39m \u001b[38;5;28mself\u001b[39m[move\u001b[38;5;241m.\u001b[39mend]\n",
      "File \u001b[0;32m~/Documents/GitHub/chess/chess.py:115\u001b[0m, in \u001b[0;36mMove.from_string\u001b[0;34m(s)\u001b[0m\n\u001b[1;32m    113\u001b[0m \u001b[38;5;129m@staticmethod\u001b[39m\n\u001b[1;32m    114\u001b[0m \u001b[38;5;28;01mdef\u001b[39;00m \u001b[38;5;21mfrom_string\u001b[39m(s):\n\u001b[0;32m--> 115\u001b[0m     start\u001b[38;5;241m=\u001b[39m \u001b[43mSquare\u001b[49m\u001b[38;5;241;43m.\u001b[39;49m\u001b[43mfrom_string\u001b[49m\u001b[43m(\u001b[49m\u001b[43ms\u001b[49m\u001b[43m[\u001b[49m\u001b[43m:\u001b[49m\u001b[38;5;241;43m2\u001b[39;49m\u001b[43m]\u001b[49m\u001b[43m)\u001b[49m\n\u001b[1;32m    116\u001b[0m     end \u001b[38;5;241m=\u001b[39m Square\u001b[38;5;241m.\u001b[39mfrom_string(s[\u001b[38;5;241m2\u001b[39m:\u001b[38;5;241m4\u001b[39m])\n\u001b[1;32m    117\u001b[0m     \u001b[38;5;28;01mif\u001b[39;00m \u001b[38;5;28mlen\u001b[39m(s) \u001b[38;5;241m==\u001b[39m \u001b[38;5;241m5\u001b[39m:\n",
      "File \u001b[0;32m~/Documents/GitHub/chess/chess.py:91\u001b[0m, in \u001b[0;36mSquare.from_string\u001b[0;34m(s)\u001b[0m\n\u001b[1;32m     89\u001b[0m \u001b[38;5;129m@staticmethod\u001b[39m\n\u001b[1;32m     90\u001b[0m \u001b[38;5;28;01mdef\u001b[39;00m \u001b[38;5;21mfrom_string\u001b[39m(s):\n\u001b[0;32m---> 91\u001b[0m     \u001b[38;5;28;01mreturn\u001b[39;00m \u001b[43mSquare\u001b[49m\u001b[43m(\u001b[49m\u001b[43ms\u001b[49m\u001b[43m[\u001b[49m\u001b[38;5;241;43m0\u001b[39;49m\u001b[43m]\u001b[49m\u001b[43m,\u001b[49m\u001b[43m \u001b[49m\u001b[43ms\u001b[49m\u001b[43m[\u001b[49m\u001b[38;5;241;43m1\u001b[39;49m\u001b[43m]\u001b[49m\u001b[43m)\u001b[49m\n",
      "File \u001b[0;32m~/Documents/GitHub/chess/chess.py:70\u001b[0m, in \u001b[0;36mSquare.__init__\u001b[0;34m(self, col, row)\u001b[0m\n\u001b[1;32m     68\u001b[0m     col \u001b[38;5;241m=\u001b[39m \u001b[38;5;28mord\u001b[39m(col) \u001b[38;5;241m-\u001b[39m \u001b[38;5;28mord\u001b[39m(\u001b[38;5;124m'\u001b[39m\u001b[38;5;124ma\u001b[39m\u001b[38;5;124m'\u001b[39m)\n\u001b[1;32m     69\u001b[0m \u001b[38;5;28;01mif\u001b[39;00m \u001b[38;5;28misinstance\u001b[39m(row, \u001b[38;5;28mstr\u001b[39m):\n\u001b[0;32m---> 70\u001b[0m     row \u001b[38;5;241m=\u001b[39m \u001b[38;5;28;43mint\u001b[39;49m\u001b[43m(\u001b[49m\u001b[43mrow\u001b[49m\u001b[43m)\u001b[49m \u001b[38;5;241m-\u001b[39m \u001b[38;5;241m1\u001b[39m\n\u001b[1;32m     71\u001b[0m \u001b[38;5;28;01mif\u001b[39;00m \u001b[38;5;129;01mnot\u001b[39;00m (\u001b[38;5;241m0\u001b[39m \u001b[38;5;241m<\u001b[39m\u001b[38;5;241m=\u001b[39m col \u001b[38;5;241m<\u001b[39m \u001b[38;5;241m8\u001b[39m \u001b[38;5;129;01mand\u001b[39;00m \u001b[38;5;241m0\u001b[39m \u001b[38;5;241m<\u001b[39m\u001b[38;5;241m=\u001b[39m row \u001b[38;5;241m<\u001b[39m \u001b[38;5;241m8\u001b[39m):\n\u001b[1;32m     72\u001b[0m     \u001b[38;5;28;01mraise\u001b[39;00m \u001b[38;5;167;01mValueError\u001b[39;00m(\u001b[38;5;124mf\u001b[39m\u001b[38;5;124m\"\u001b[39m\u001b[38;5;124mInvalid square: (\u001b[39m\u001b[38;5;132;01m{\u001b[39;00mcol\u001b[38;5;132;01m}\u001b[39;00m\u001b[38;5;124m, \u001b[39m\u001b[38;5;132;01m{\u001b[39;00mrow\u001b[38;5;132;01m}\u001b[39;00m\u001b[38;5;124m)\u001b[39m\u001b[38;5;124m\"\u001b[39m)\n",
      "\u001b[0;31mValueError\u001b[0m: invalid literal for int() with base 10: 's'"
     ]
    }
   ],
   "source": [
    "game = chess.Game()\n",
    "game.play_interactive()\n",
    "# 1. Pe2e4 Pe7e5 2. Ng1f3 Nb8c6 3. Bf1c4 Bf8c5 4. O-O "
   ]
  },
  {
   "cell_type": "code",
   "execution_count": 93,
   "metadata": {},
   "outputs": [
    {
     "name": "stdout",
     "output_type": "stream",
     "text": [
      "1. Pf2f4 Pe7e6 2. Ph2h3 Pb7b5 3. Pa2a4 Ph7h6 4. Rh1h2 Qd8g5 5. Pc2c4 Qg5xf4 6. Ph3h4 Qf4e4 7. Pg2g4 Bc8b7 8. Rh2h1 Pa7a5 9. Pg4g5 Bb7d5 10. Pb2b3 Ph6h5 11. Pe2e3 Qe4xe3 12. Ng1e2 Qe3xd2 13. Ke1f2 Bd5e4 14. Rh1h2 Qd2b4 15. Kf2g3 Be4h7 16. Bc1f4 Bh7e4 17. Ra1a3 Be4h7 18. Ra3a1 Nb8a6 19. Qd1e1 Qb4d6 20. Kg3g2 Ra8b8 21. Kg2g3 Bh7g6 22. Ne2c1 Qd6b4 23. Qe1e2 Bg6d3 24. Qe2d2 Ng8h6 25. Qd2e3 Rb8b6 26. Pg5g6 Qb4c3 27. Qe3xd3 Rb6b8 28. Bf4e5 Bf8c5 29. Kg3f3 Qc3xd3 30. Bf1xd3 Pb5b4 31. Kf3g2 Ke8f8 32. Kg2g3 Pf7f6 33. Rh2g2 Bc5f2 34. Kg3h3 Rb8b7 35. Pc4c5 Bf2e3 36. Be5b2 Pd7d5 37. Rg2e2 Rb7b5 38. Re2h2 Be3g5 39. Nc1a2 Bg5c1 40. Pc5c6 Rh8g8 41. Nb1a3 Kf8e7 42. Rh2d2 Ke7e8 43. Bb2xf6 Nh6f7 44. Bf6e7 Ke8xe7 45. Rd2g2 Ke7d8 46. Rg2c2 Nf7h8 47. Rc2g2 Bc1f4 48. Bd3xb5 Bf4g3 49. Rg2h2 Kd8e8 50. Na3c4 Na6b8 51. Ra1c1 Nb8d7 52. Rh2d2 Nh8xg6 53. Rc1c2 Pd5d4 54. Rd2g2 Ke8f8 55. Rc2b2 Bg3f2 56. Nc4xa5 Bf2g3 57. Rg2e2 Ng6e7 58. Na5b7 Nd7b6 59. Nb7a5 Kf8e8 60. Rb2d2 Pg7g5 61. Rd2b2 Ne7g6 62. Bb5c4 Ke8d8 63. Re2xe6 Pd4d3 64. Bc4xd3 Pg5xh4 65. Re6f6 Nb6a8 66. Bd3e2 Rg8h8 67. Rf6f1 Ng6e5 68. Rf1f6 Rh8f8 69. Na2xb4 Rf8xf6 70. Kh3g2 Na8b6 71. Rb2d2 Ne5d3 72. Kg2h3 Bg3h2 73. Nb4c2 Rf6f4 74. Nc2e1 Nb6xa4 75. Kh3g2 Rf4f8 76. Ne1c2 Na4b2 77. Be2xd3 Nb2xd3 78. Rd2xd3 Kd8c8 79. Rd3d7 Kc8b8 80. Rd7g7 Bh2g3 81. Rg7f7 Rf8g8 82. Rf7g7 Bg3h2 83. Nc2a3 Rg8c8 84. Rg7g6 Bh2f4 85. Rg6h6 Bf4e3 86. Na3c4 Rc8h8 87. Nc4b6 Be3g1 88. Rh6xh5 Rh8xh5 89. Nb6a4 Ph4h3 90. Kg2f3 Kb8a7 91. Kf3f4 Ka7b8 92. Kf4f3 Rh5h6 93. Kf3e2 Rh6e6 94. Ke2d3 Re6g6 95. Pb3b4 Bg1h2 96. Kd3e4 Bh2f4 97. Na4c5 Rg6f6 98. Pb4b5 Bf4g5 99. Ke4d4 Kb8c8 100. Kd4c4 Rf6f2 \n",
      "8 | . . ♚ . . . . . \n",
      "7 | . . ♟ . . . . . \n",
      "6 | . . ♙ . . . . . \n",
      "5 | ♘ ♙ ♘ . . . ♝ . \n",
      "4 | . . ♔ . . . . . \n",
      "3 | . . . . . . . ♟ \n",
      "2 | . . . . . ♜ . . \n",
      "1 | . . . . . . . . \n",
      "   ––––––––––––––––\n",
      "    a b c d e f g h\n",
      "White to move.\n"
     ]
    }
   ],
   "source": [
    "game = chess.Game()\n",
    "for i in range(200):\n",
    "    moves = game.legal_moves()\n",
    "    if moves == []:\n",
    "        if game.is_checkmate():\n",
    "            print(\"Checkmate\")\n",
    "        elif game.is_stalemate():\n",
    "            print(\"Stalemate\")\n",
    "        else:\n",
    "            assert False\n",
    "    game.move(random.choice(moves))\n",
    "print(game)"
   ]
  }
 ],
 "metadata": {
  "kernelspec": {
   "display_name": "base",
   "language": "python",
   "name": "python3"
  },
  "language_info": {
   "codemirror_mode": {
    "name": "ipython",
    "version": 3
   },
   "file_extension": ".py",
   "mimetype": "text/x-python",
   "name": "python",
   "nbconvert_exporter": "python",
   "pygments_lexer": "ipython3",
   "version": "3.9.12"
  }
 },
 "nbformat": 4,
 "nbformat_minor": 2
}
