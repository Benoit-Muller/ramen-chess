{
 "cells": [
  {
   "cell_type": "code",
   "execution_count": 114,
   "metadata": {},
   "outputs": [
    {
     "data": {
      "text/plain": [
       "<module 'ramen_chess' from '/Users/benoitmuller/Documents/lichess-bot/engines/ramen_chess/ramen_chess.py'>"
      ]
     },
     "execution_count": 114,
     "metadata": {},
     "output_type": "execute_result"
    }
   ],
   "source": [
    "import ramen_chess\n",
    "from ramen_chess import *\n",
    "import chess\n",
    "import random\n",
    "import importlib\n",
    "importlib.reload(ramen_chess)"
   ]
  },
  {
   "cell_type": "code",
   "execution_count": 115,
   "metadata": {},
   "outputs": [
    {
     "name": "stdout",
     "output_type": "stream",
     "text": [
      "Testing Square class\n",
      "Testing Move class\n",
      "Testing Board class\n",
      "fastest mate:\n",
      "8 | ♜ ♞ ♝ . ♚ ♝ ♞ ♜ \n",
      "7 | ♟ ♟ ♟ ♟ . ♟ ♟ ♟ \n",
      "6 | . . . . ♟ . . . \n",
      "5 | . . . . . . . . \n",
      "4 | . . . . . . ♙ ♛ \n",
      "3 | . . . . . ♙ . . \n",
      "2 | ♙ ♙ ♙ ♙ ♙ . . ♙ \n",
      "1 | ♖ ♘ ♗ ♕ ♔ ♗ ♘ ♖ \n",
      "   ––––––––––––––––\n",
      "    a b c d e f g h\n",
      "Testing Game class\n",
      "1. Pf2f3 Pe7e6 2. Pg2g4 Qd8h4 \n",
      "8 | ♜ ♞ ♝ . ♚ ♝ ♞ ♜ \n",
      "7 | ♟ ♟ ♟ ♟ . ♟ ♟ ♟ \n",
      "6 | . . . . ♟ . . . \n",
      "5 | . . . . . . . . \n",
      "4 | . . . . . . ♙ ♛ \n",
      "3 | . . . . . ♙ . . \n",
      "2 | ♙ ♙ ♙ ♙ ♙ . . ♙ \n",
      "1 | ♖ ♘ ♗ ♕ ♔ ♗ ♘ ♖ \n",
      "   ––––––––––––––––\n",
      "    a b c d e f g h\n",
      "Checkmate.\n",
      "Pa2a3 Pa2a4 Nb1c3 Nb1a3 Pb2b3 Pb2b4 Pc2c3 Pc2c4 Pd2d3 Pd2d4 Ke1f2 Pe2e3 Pe2e4 Bf1g2 Bf1h3 Pf3f4 Ng1h3 Pg4g5 Ph2h3\n",
      "Pf2f3 Pe7e6 Pg2g4 Qd8h4\n",
      "1. Pf2f3 Pe7e6 2. Pg2g4 \n",
      "8 | ♜ ♞ ♝ ♛ ♚ ♝ ♞ ♜ \n",
      "7 | ♟ ♟ ♟ ♟ . ♟ ♟ ♟ \n",
      "6 | . . . . ♟ . . . \n",
      "5 | . . . . . . . . \n",
      "4 | . . . . . . ♙ . \n",
      "3 | . . . . . ♙ . . \n",
      "2 | ♙ ♙ ♙ ♙ ♙ . . ♙ \n",
      "1 | ♖ ♘ ♗ ♕ ♔ ♗ ♘ ♖ \n",
      "   ––––––––––––––––\n",
      "    a b c d e f g h\n",
      "Black to move.\n",
      "8 | ♜ ♞ ♝ . ♚ ♝ ♞ ♜ \n",
      "7 | ♟ ♟ ♟ ♟ . ♟ ♟ ♟ \n",
      "6 | . . . . ♟ . . . \n",
      "5 | . . . . . . . . \n",
      "4 | . . . . . . ♙ ♛ \n",
      "3 | . . . . . ♙ . . \n",
      "2 | ♙ ♙ ♙ ♙ ♙ . . ♙ \n",
      "1 | ♖ ♘ ♗ ♕ ♔ ♗ ♘ ♖ \n",
      "   ––––––––––––––––\n",
      "    a b c d e f g h\n",
      "rnb1kbnr/pppp1ppp/4p3/8/6Pq/5P2/PPPPP2P/RNBQKBNR\n",
      "All tests passed\n"
     ]
    }
   ],
   "source": [
    "# Test the Square class\n",
    "print(\"Testing Square class\")\n",
    "pos1= ramen_chess.Square(4,3)\n",
    "pos2= ramen_chess.Square(\"e\",\"4\")\n",
    "assert pos1 == pos2\n",
    "assert str(pos1) == \"e4\"\n",
    "pos3 = pos1 + (1,1)\n",
    "assert pos3 == ramen_chess.Square(5,4)\n",
    "pos4 = ramen_chess.Square(pos1[0], pos1[1])\n",
    "assert pos4 == pos1\n",
    "\n",
    "# Test the Move class\n",
    "print(\"Testing Move class\")\n",
    "move1 = ramen_chess.Move(pos1, pos3)\n",
    "move2 = ramen_chess.Move(\"e4\", \"f5\")\n",
    "assert move1 == move2\n",
    "assert str(move1) == \"e4f5\"\n",
    "\n",
    "# Test the Board class\n",
    "print(\"Testing Board class\")\n",
    "board = ramen_chess.Board()\n",
    "board.set_starting_position()\n",
    "assert board[0,0].name == \"R\"\n",
    "#print(\"initial position:\")\n",
    "#print(board)\n",
    "board.move(\"f2f3\")\n",
    "board.move(\"e7e6\")\n",
    "board.move(\"g2g4\")\n",
    "print(\"fastest mate:\")\n",
    "board.move(\"d8h4\",show=True)\n",
    "\n",
    "print(\"Testing Game class\")\n",
    "game = ramen_chess.Game()\n",
    "game.move(\"f2f3\")\n",
    "game.move(\"e7e6\")\n",
    "game.move(\"g2g4\")\n",
    "game.move(\"d8h4\")\n",
    "print(game)\n",
    "moves= game.pseudo_legal_moves()\n",
    "print(*moves)\n",
    "print(*game.moves)\n",
    "game.undo_move()\n",
    "print(game)\n",
    "board = ramen_chess.Board.from_fen(\"rnb1kbnr/pppp1ppp/1111p111/11111111/111111Pq/11111P11/PPPPP11P/RNBQKBNR\")\n",
    "print(board)\n",
    "print(board.fen())\n",
    "\n",
    "print(\"All tests passed\")\n"
   ]
  },
  {
   "cell_type": "code",
   "execution_count": 116,
   "metadata": {},
   "outputs": [],
   "source": [
    "# test game\n",
    "# the interactive mode\n",
    "game = ramen_chess.Game()\n",
    "#game.play_interactive()\n",
    "# 1. Pe2e4 Pe7e5 2. Ng1f3 Nb8c6 3. Bf1c4 Bf8c5 4. O-O "
   ]
  },
  {
   "cell_type": "code",
   "execution_count": 117,
   "metadata": {},
   "outputs": [
    {
     "name": "stdout",
     "output_type": "stream",
     "text": [
      "1. Pd2d3 Pf7f5 2. Ng1h3 Pg7g6 3. Rh1g1 Bf8g7 4. Bc1g5 Bg7f6 5. Pb2b3 Pc7c6 6. Bg5f4 Bf6d4 7. Nb1a3 Bd4xa1 8. Qd1c1 Qd8a5 9. Bf4d2 Qa5c3 10. Ke1d1 Qc3c5 11. Na3b5 Pe7e6 12. Bd2f4 Ba1c3 13. Nb5d4 Ke8f7 14. Pa2a3 Kf7f8 15. Nh3g5 Qc5a5 16. Ng5e4 Bc3d2 17. Ph2h3 Bd2e1 18. Pc2c3 Pd7d5 19. Ne4d6 Nb8d7 20. Nd6c4 Ra8b8 21. Qc1e3 Qa5c7 22. Bf4e5 Pb7b5 23. Nd4f3 Ph7h5 24. Ph3h4 Nd7xe5 25. Nc4d6 Bc8d7 26. Nf3xe5 Rh8h7 27. Ne5xd7 Kf8g7 28. Pc3c4 Pf5f4 29. Nd6e4 Pb5xc4 30. Pg2g3 Pg6g5 31. Qe3b6 Rb8d8 32. Qb6b5 Kg7f7 33. Pf2f3 Kf7e7 34. Pg3g4 Qc7b8 35. Qb5xc4 Rd8f8 36. Pe2e3 Rh7h8 37. Kd1c1 Pe6e5 38. Qc4d4 Qb8d6 39. Ph4xg5 Rf8f7 40. Pb3b4 Ng8f6 41. Rg1g2 Qd6xb4 42. Rg2h2 Qb4a4 43. Rh2d2 Pa7a5 44. Qd4c5 Ke7xd7 45. Ne4xf6 Kd7e6 46. Nf6h7 Rh8f8 47. Pe3xf4 Be1f2 48. Nh7xf8 Rf7xf8 49. Rd2c2 Rf8xf4 50. Qc5xc6 Ke6f7 51. Qc6f6 Kf7e8 52. Qf6f8 Rf4xf8 53. Rc2e2 Rf8f6 54. Re2xf2 Qa4xg4 55. Bf1g2 Qg4d4 56. Pf3f4 Rf6f7 57. Bg2h3 Rf7b7 58. Rf2f1 Qd4g1 59. Rf1d1 Pd5d4 60. Pg5g6 Rb7b5 61. Rd1f1 Rb5b8 62. Bh3g4 Qg1h1 63. Kc1d1 Qh1b7 64. Bg4xh5 Rb8d8 65. Rf1f3 Rd8d5 66. Rf3e3 Qb7g7 67. Re3e2 Rd5d8 68. Re2g2 Pa5a4 69. Rg2d2 Rd8d5 70. Kd1e2 Qg7h6 71. Pf4xe5 Rd5d8 72. Pg6g7 Qh6xh5 73. Ke2e1 Qh5h6 74. Pg7g8=Q Qh6f8 75. Qg8g3 Qf8b4 76. Qg3g5 Qb4e7 77. Rd2f2 Qe7d6 78. Rf2f5 Qd6d7 79. Rf5f1 Qd7f5 80. Qg5d2 Qf5xf1 81. Ke1xf1 Ke8d7 82. Qd2b4 Rd8e8 83. Kf1g1 Re8xe5 84. Qb4d6 Kd7c8 85. Qd6c5 Kc8d7 86. Kg1f2 Re5e3 87. Qc5xd4 Kd7e7 88. Qd4g7 Ke7e6 89. Kf2xe3 Ke6d6 90. Qg7e7 Kd6xe7 91. Ke3f3 Ke7f8 92. Kf3f4 Kf8e8 93. Kf4f5 Ke8d7 94. Kf5f6 Kd7c7 95. Kf6e5 Kc7b7 96. Ke5d4 Kb7c7 97. Kd4e3 Kc7d8 98. Ke3d2 Kd8c8 99. Kd2e1 Kc8b8 100. Pd3d4 Kb8a7 \n",
      "Checkmate:\n",
      "1. Pg2g3 Pf7f5 2. Pf2f3 Ng8h6 3. Pa2a4 Pe7e5 4. Pa4a5 Pd7d5 5. Bf1g2 Pa7a6 6. Pe2e3 Ke8e7 7. Pg3g4 Ke7d6 8. Bg2f1 Pg7g6 9. Ph2h4 Bc8e6 10. Bf1e2 Pf5f4 11. Ke1f1 Qd8e7 12. Pb2b3 Qe7d8 13. Ra1a4 Rh8g8 14. Ra4xf4 Pe5xf4 15. Pc2c3 Pg6g5 16. Ng1h3 Pc7c5 17. Kf1e1 Be6f5 18. Rh1h2 Kd6e6 19. Nb1a3 Bf8g7 20. Nh3xf4 Ke6f6 21. Pb3b4 Bf5c2 22. Rh2h3 Ra8a7 23. Nf4g6 Nb8c6 24. Be2c4 Nc6xa5 25. Bc1b2 Ph7xg6 26. Pe3e4 Na5b3 27. Pd2d3 Nb3a1 28. Pe4e5 Kf6e7 29. Qd1b1 Pg5xh4 30. Rh3g3 Ke7f8 31. Pe5e6 Qd8d7 32. Bb2c1 Rg8h8 33. Bc4a2 Qd7e7 34. Rg3h3 Nh6xg4 35. Ke1e2 Kf8g8 36. Pf3f4 Bg7f8 37. Ke2f3 Bc2xd3 38. Rh3xh4 Ng4e3 39. Na3b5 Ne3g4 40. Nb5d4 Na1c2 41. Ba2b3 Qe7f6 42. Nd4e2 Qf6xc3 43. Bc1d2 Bf8h6 44. Pe6e7 Nc2e3 45. Ne2g3 Ne3f1 46. Pb4xc5 Nf1h2 47. Kf3g2 Pg6g5 48. Pc5c6 Bd3h7 49. Qb1f5 Qc3c5 50. Ng3h1 Pa6a5 51. Pe7e8=N Pa5a4 52. Qf5c8 Nh2f3 53. Qc8xg4 Qc5e7 54. Nh1g3 Qe7e6 55. Rh4h1 Kg8f8 56. Rh1h2 Kf8e7 57. Qg4xe6 Ke7f8 58. Qe6xd5 Pg5g4 59. Ne8d6 Bh7f5 60. Qd5f7 \n",
      "1. Pg2g4 Pg7g5 2. Bf1g2 Ng8f6 3. Ng1h3 Pc7c5 4. Bg2f3 Ph7h6 5. Bf3d5 Pb7b5 6. Nb1c3 Qd8a5 7. Nh3f4 Qa5a3 8. Nc3xb5 Rh8h7 9. Bd5g2 Pd7d6 10. Nf4d5 Bf8g7 11. Pf2f4 Bc8b7 12. Ke1f1 Qa3b4 13. Kf1e1 Rh7h8 14. Bg2e4 Qb4xb5 15. Be4f3 Qb5c4 16. Nd5b6 Qc4e4 17. Pb2b3 Pe7e6 18. Rh1f1 Nb8a6 19. Rf1h1 Na6b8 20. Nb6c8 Qe4b4 21. Ke1f1 Pa7a6 22. Pf4f5 Qb4xg4 23. Pa2a3 Pe6e5 24. Kf1e1 Nf6e4 25. Pf5f6 Bb7d5 26. Nc8xd6 Ke8f8 27. Pe2e3 Qg4c8 28. Bc1b2 Pa6a5 29. Pf6xg7 Kf8xg7 30. Bf3h5 Qc8c7 31. Qd1c1 Qc7d7 32. Bh5g4 Kg7f8 33. Bb2c3 Ne4g3 34. Pb3b4 Pa5xb4 35. Bg4f5 Bd5c6 36. Pa3a4 Qd7e8 37. Nd6xf7 Bc6b7 38. Bf5g4 Nb8d7 39. Pe3e4 Ng3xe4 40. Ph2h3 Kf8g8 41. Qc1d1 Pc5c4 42. Nf7xh6 Kg8f8 43. Nh6g8 Kf8xg8 44. Bg4e2 Qe8g6 45. Bc3xb4 Ne4c3 46. Bb4a3 Nd7f8 47. Be2f1 Ra8xa4 48. Qd1g4 Nf8d7 49. Rh1h2 Qg6e8 50. Pd2d3 Bb7e4 51. Qg4f5 Ra4a8 52. Ba3b2 Nd7f8 53. Ph3h4 Qe8b8 54. Bf1g2 Pg5g4 55. Qf5d7 Nc3a2 56. Bb2a3 Pc4xd3 57. Qd7xd3 Qb8b3 58. Qd3h3 Ra8a4 59. Bg2f3 Na2c1 60. Bf3xg4 Ra4a8 61. Ba3b2 Be4h1 62. Ke1d2 Qb3b7 63. Ra1a5 Ra8a7 64. Ra5c5 Ra7a8 65. Kd2xc1 Nf8h7 66. Rh2e2 Ra8a3 67. Rc5xe5 Qb7b4 68. Qh3d3 Qb4b5 69. Re5h5 Qb5d7 70. Pc2c3 Qd7d6 71. Qd3g3 Bh1c6 72. Qg3e5 Qd6c5 73. Rh5f5 Qc5xc3 74. Kc1b1 Ra3a8 75. Qe5d6 Qc3a3 76. Rf5f4 Qa3xb2 77. Kb1xb2 Bc6e4 78. Bg4h5 Ra8a3 79. Qd6e5 Ra3g3 80. Kb2c1 Be4g6 81. Qe5g5 Rg3e3 82. Qg5a5 Nh7g5 83. Kc1b2 Bg6c2 84. Bh5e8 Ng5e4 85. Re2e1 Ne4c5 86. Qa5a8 Kg8g7 87. Re1b1 Rh8g8 88. Rf4c4 Re3e2 89. Qa8f3 Kg7h7 90. Qf3f1 Rg8g6 91. Rc4xc2 Kh7g7 92. Rc2xe2 Rg6a6 93. Qf1d1 Ra6c6 94. Qd1d4 Kg7g8 95. Qd4f6 Nc5e6 96. Re2g2 Kg8h7 97. Rb1g1 Rc6c3 98. Rg2g6 Rc3c2 99. Kb2xc2 Ne6c7 100. Rg6g4 Nc7e6 \n",
      "1. Nb1c3 Pg7g6 2. Pe2e3 Bf8h6 3. Ng1f3 Pg6g5 4. Pb2b4 Pb7b5 5. Pd2d3 Pf7f6 6. Pe3e4 Pg5g4 7. Nf3e5 Bh6e3 8. Ne5xg4 Ng8h6 9. Ph2h4 Ke8f7 10. Rh1g1 Pe7e5 11. Qd1e2 Be3g5 12. Ng4h2 Bg5xh4 13. Pg2g3 Kf7f8 14. Qe2d1 Nh6g4 15. Bf1e2 Ng4xf2 16. Pa2a4 Nf2h1 17. Ke1d2 Qd8e7 18. Rg1xh1 Qe7e8 19. Pa4xb5 Pc7c6 20. Ra1a5 Bc8a6 21. Nh2g4 Bh4xg3 22. Be2f1 Bg3h4 23. Ra5a1 Kf8g7 24. Ng4e3 Rh8g8 25. Qd1e2 Pc6xb5 26. Ra1xa6 Qe8h5 27. Ne3g2 Kg7h6 28. Ra6a3 Rg8d8 29. Qe2g4 Qh5g6 30. Ng2f4 Qg6h5 31. Nf4g6 Pa7a6 32. Bc1b2 Rd8c8 33. Qg4g1 Rc8e8 34. Qg1g4 Ph7xg6 35. Nc3d5 Re8f8 36. Bb2xe5 Bh4g5 37. Kd2c3 Ra8a7 38. Ra3a4 Qh5h3 39. Be5d6 Nb8c6 40. Qg4xg5 Kh6g7 41. Rh1xh3 Rf8b8 42. Nd5b6 Nc6xb4 43. Bd6h2 Rb8d8 44. Bh2b8 Nb4a2 45. Ra4xa2 Rd8e8 46. Rh3h8 Pd7d6 47. Rh8h4 Re8e7 48. Kc3d4 Re7c7 49. Rh4h5 Rc7c4 50. Kd4d5 Kg7f7 51. Bb8c7 Pf6xg5 52. Ra2a4 Kf7g7 53. Nb6xc4 Kg7g8 54. Bc7d8 Kg8g7 55. Bd8c7 Pa6a5 56. Ra4a3 Ra7a6 57. Bc7xa5 Kg7f7 58. Nc4e3 Kf7g7 59. Pc2c3 Kg7f8 60. Rh5h1 Kf8g8 61. Rh1h4 Ra6a8 62. Kd5c6 Pd6d5 63. Kc6b7 Pd5d4 64. Ra3b3 Ra8xa5 65. Rh4h5 Pd4xe3 66. Rb3b4 Ra5a6 67. Rh5h8 Kg8f7 68. Rb4b1 Kf7g7 69. Rb1b3 Ra6b6 70. Kb7xb6 Pg5g4 71. Rh8b8 Pe3e2 72. Kb6c7 Kg7f6 73. Rb3xb5 Kf6e7 74. Pe4e5 Pe2xf1=N 75. Rb8b6 Nf1d2 76. Rb6b8 Nd2c4 77. Rb8b6 Nc4xe5 78. Rb5b1 Ke7f8 79. Rb1c1 Kf8g7 80. Rb6f6 Ne5f3 81. Rc1b1 Nf3h2 82. Rf6a6 Pg6g5 83. Rb1e1 Nh2f1 84. Pc3c4 Nf1d2 85. Re1e6 Kg7f8 86. Re6b6 Kf8g7 87. Rb6g6 Kg7f8 88. Ra6d6 Pg4g3 89. Rg6h6 Kf8g7 90. Rd6c6 Nd2xc4 91. Pd3xc4 Kg7f7 92. Pc4c5 Pg5g4 93. Rc6g6 Kf7e8 94. Rg6d6 Pg3g2 95. Rd6d8 Ke8e7 96. Rh6h2 Ke7e6 97. Kc7b8 Ke6f7 98. Rd8d4 Kf7e8 99. Rd4e4 Ke8f7 100. Kb8c7 Kf7f8 \n",
      "1. Nb1a3 Pb7b5 2. Ph2h4 Bc8a6 3. Pc2c3 Pe7e6 4. Pb2b3 Pb5b4 5. Qd1c2 Pd7d5 6. Pd2d4 Ba6b7 7. Qc2b1 Ng8e7 8. Bc1g5 Pf7f6 9. Qb1b2 Nb8a6 10. Qb2c1 Pb4xa3 11. Rh1h3 Na6b4 12. Pf2f3 Qd8c8 13. Pc3c4 Bb7a6 14. Bg5xf6 Ra8b8 15. Bf6xg7 Ke8d8 16. Rh3h2 Ne7g8 17. Qc1d2 Ng8f6 18. Qd2b2 Ba6b5 19. Ra1b1 Kd8d7 20. Qb2xa3 Nb4c6 21. Pc4c5 Kd7e7 22. Bg7xf8 Ke7xf8 23. Qa3b4 Nc6xb4 24. Ph4h5 Rb8a8 25. Rb1c1 Kf8f7 26. Rc1c3 Qc8e8 27. Rh2h3 Qe8g8 28. Rh3h2 Bb5d7 29. Rh2h3 Kf7e7 30. Ke1d1 Qg8g4 31. Pc5c6 Ph7h6 32. Rc3c4 Qg4xg2 33. Pe2e4 Ke7f8 34. Rc4c5 Nf6h7 35. Bf1e2 Bd7xc6 36. Rc5a5 Ra8d8 37. Be2b5 Nh7g5 38. Bb5xc6 Qg2b2 39. Bc6d7 Rd8e8 40. Rh3g3 Ng5xe4 41. Bd7b5 Qb2f2 42. Rg3g5 Pa7a6 43. Pa2a4 Qf2xf3 44. Bb5e2 Ne4d2 45. Rg5g2 Qf3g3 46. Ra5xa6 Pc7c5 47. Ra6c6 Nb4a2 48. Rc6xc5 Rh8h7 49. Rc5c2 Re8a8 50. Rc2c5 Qg3f2 51. Kd1xd2 Qf2xg2 52. Rc5b5 Ra8xa4 53. Kd2c2 Qg2e4 54. Kc2b2 Rh7f7 55. Rb5b4 Kf8g8 56. Pb3xa4 Rf7f3 57. Ng1xf3 Kg8h8 58. Nf3d2 Na2c1 59. Nd2b3 Pe6e5 60. Rb4b7 Qe4f5 61. Rb7e7 Qf5f3 62. Kb2c2 Nc1d3 63. Re7xe5 Kh8g7 64. Re5e3 Qf3f2 65. Re3h3 Nd3e1 66. Kc2d2 Qf2h4 67. Rh3g3 Qh4g4 68. Be2d1 Qg4g5 69. Rg3xg5 Kg7f8 70. Nb3c5 Kf8f7 71. Bd1f3 Kf7e7 72. Kd2d1 Ke7f6 73. Rg5g7 Kf6f5 74. Kd1d2 Kf5f4 75. Kd2e2 Ne1c2 76. Nc5a6 Nc2xd4 77. Ke2f1 Nd4b5 78. Rg7a7 Nb5d6 79. Kf1g2 Nd6f5 80. Na6b8 Pd5d4 81. Kg2h2 Nf5g7 82. Pa4a5 Ng7f5 83. Bf3d1 Nf5e7 84. Bd1b3 Kf4f3 85. Bb3c2 Kf3f4 86. Pa5a6 Kf4f3 87. Ra7c7 Kf3e3 88. Bc2a4 Ke3d2 89. Rc7c8 Pd4d3 90. Kh2g2 Ne7d5 91. Pa6a7 Nd5e3 92. Kg2g3 Kd2e1 93. Rc8c1 Ne3d1 94. Rc1c2 Nd1c3 95. Kg3f3 Nc3e4 96. Pa7a8=R Ke1d1 97. Ba4e8 Ne4c5 98. Rc2c4 Nc5a4 99. Rc4xa4 Kd1e1 100. Ra4e4 Ke1d2 \n",
      "1. Ph2h4 Pe7e6 2. Nb1a3 Qd8xh4 3. Na3b5 Bf8e7 4. Nb5a3 Be7xa3 5. Pb2b4 Qh4g5 6. Ng1h3 Ng8f6 7. Pc2c3 Qg5c5 8. Qd1c2 Qc5d5 9. Rh1g1 Qd5xg2 10. Pc3c4 Qg2d5 11. Rg1g5 Pg7g6 12. Qc2b2 Ba3xb2 13. Pd2d4 Qd5xd4 14. Rg5d5 Nf6g4 15. Rd5g5 Qd4g7 16. Rg5xg6 Nb8a6 17. Bc1g5 Bb2a3 18. Nh3f4 Pd7d6 19. Bf1h3 Na6xb4 20. Pf2f3 Qg7xa1 21. Ke1d2 Nb4c2 22. Rg6xe6 Ke8d7 23. Pe2e4 Pf7f5 24. Bh3xg4 Qa1e5 25. Bg4h3 Ba3b4 26. Kd2e2 Rh8e8 27. Ke2d1 Pb7b5 28. Re6h6 Re8g8 29. Pc4c5 Kd7e8 30. Kd1xc2 Rg8g6 31. Pc5c6 Pa7a5 32. Bg5d8 Ra8a7 33. Pa2a3 Ke8f7 34. Nf4e2 Qe5e8 35. Pe4e5 Kf7g7 36. Kc2b3 Pd6d5 37. Kb3c2 Bb4c3 38. Kc2b3 Rg6g3 39. Bd8h4 Kg7xh6 40. Pe5e6 Bc3g7 41. Bh4f6 Bg7xf6 42. Kb3c2 Ra7a8 43. Pa3a4 Kh6g5 44. Ne2f4 Bc8d7 45. Bh3xf5 Rg3h3 46. Kc2b1 Bf6e5 47. Bf5c2 Be5c3 48. Nf4xh3 Kg5f6 49. Pe6e7 Bc3d2 50. Bc2d3 Qe8f7 51. Bd3e4 Ra8a6 52. Be4f5 Bd2e1 53. Bf5xd7 Ph7h6 54. Pf3f4 Pd5d4 55. Bd7g4 Be1f2 56. Pa4xb5 Ra6a7 57. Kb1a1 Qf7d5 58. Pb5b6 Qd5xc6 59. Bg4e2 Pa5a4 60. Pb6xa7 Qc6b6 61. Nh3g1 Kf6e6 62. Be2b5 Ke6d5 63. Pa7a8=R Bf2xg1 64. Ka1a2 Qb6d6 65. Ra8a5 Qd6e5 66. Ka2b2 Kd5e4 67. Pe7e8=Q Qe5e6 68. Qe8g8 Ke4e3 69. Bb5e2 Qe6e8 70. Qg8g6 Qe8xg6 71. Be2f3 Qg6d3 72. Ra5f5 Qd3a3 73. Kb2b1 Qa3f8 74. Rf5a5 Ke3d2 75. Bf3a8 Pd4d3 76. Kb1b2 Qf8g8 77. Kb2a3 Kd2e2 78. Ra5f5 Pc7c6 79. Rf5c5 Qg8f8 80. Ka3xa4 Ke2f2 81. Rc5c2 Kf2f1 82. Rc2c1 Kf1g2 83. Rc1c5 Kg2h2 84. Ka4a5 Qf8c8 85. Rc5h5 Kh2g2 86. Rh5g5 Kg2h3 87. Rg5g7 Qc8c7 88. Ka5b4 Qc7b8 89. Kb4a4 Qb8f8 90. Rg7h7 Bg1c5 91. Rh7g7 Qf8e7 92. Rg7g5 Bc5b6 93. Rg5f5 Bb6a5 94. Ka4b3 Qe7b7 95. Ba8xb7 Kh3g4 96. Rf5f7 Ba5d2 97. Bb7a6 Kg4f3 98. Kb3a2 Bd2c3 99. Rf7e7 Kf3xf4 100. Re7a7 Pd3d2 \n",
      "1. Pf2f4 Pf7f5 2. Pd2d4 Pd7d5 3. Pb2b4 Nb8c6 4. Pa2a4 Bc8e6 5. Ng1h3 Ng8f6 6. Nb1d2 Ke8f7 7. Pe2e4 Kf7g6 8. Pe4xd5 Be6f7 9. Pd5xc6 Qd8d7 10. Pb4b5 Pa7a6 11. Nh3g5 Pe7e6 12. Ph2h3 Qd7xd4 13. Nd2f3 Qd4c5 14. Qd1d8 Nf6e8 15. Pg2g4 Ra8a7 16. Ng5xe6 Rh8g8 17. Ne6xg7 Pa6a5 18. Ke1d1 Pb7xc6 19. Rh1g1 Qc5xg1 20. Qd8d2 Ra7a8 21. Nf3g5 Bf8d6 22. Ng5e4 Pf5xe4 23. Qd2xd6 Ne8f6 24. Bc1b2 Ra8d8 25. Pc2c3 Bf7d5 26. Qd6f8 Bd5b3 27. Kd1e1 Ph7h6 28. Bb2c1 Rd8d7 29. Ke1e2 Rg8xg7 30. Qf8c5 Nf6h7 31. Qc5c4 Pc6xb5 32. Bc1e3 Rd7d4 33. Ra1d1 Nh7g5 34. Qc4d5 Pb5xa4 35. Qd5g8 Rd4b4 36. Pc3c4 Bb3xc4 37. Ke2e1 Pc7c6 38. Pf4xg5 Bc4d3 39. Be3c1 Rb4b3 40. Qg8c4 Rb3b2 41. Qc4xc6 Kg6f7 42. Qc6g6 Kf7g8 43. Qg6d6 Rb2d2 44. Qd6f6 Pa4a3 45. Ph3h4 Rg7c7 46. Qf6xh6 Qg1h2 47. Qh6f6 Bd3xf1 48. Qf6c6 Rc7a7 49. Ph4h5 Kg8h8 50. Qc6h6 Ra7h7 51. Qh6b6 Rh7e7 52. Qb6e3 Re7b7 53. Qe3xa3 Rb7d7 54. Qa3f8 Kh8h7 55. Qf8f4 Rd2b2 56. Bc1d2 Rb2xd2 57. Rd1c1 Rd2f2 58. Qf4b8 Rf2f4 59. Qb8c7 Rd7g7 60. Qc7b6 Rf4f6 61. Qb6b4 Rf6h6 62. Qb4f8 Rh6c6 63. Ph5h6 Rg7e7 64. Qf8f2 Qh2c7 65. Qf2f8 Qc7d8 66. Qf8f5 Kh7g8 67. Qf5f2 Bf1e2 68. Qf2b6 Be2d3 69. Rc1c4 Qd8c7 70. Rc4c3 Re7g7 71. Rc3xc6 Rg7e7 72. Qb6b2 Re7h7 73. Qb2f6 Qc7f4 74. Qf6e7 Qf4b8 75. Qe7f8 Qb8xf8 76. Rc6c8 Bd3c4 77. Rc8a8 Rh7d7 78. Ra8e8 Bc4e6 79. Re8d8 Rd7e7 80. Rd8d6 Qf8f4 81. Rd6b6 Kg8h7 82. Rb6b2 Qf4f2 83. Ke1xf2 Be6c8 84. Rb2b7 Kh7g6 85. Rb7c7 Re7f7 86. Kf2e1 Bc8a6 87. Ph6h7 Rf7e7 88. Ph7h8=N Kg6xg5 89. Rc7d7 Pa5a4 90. Rd7xe7 Kg5f4 91. Re7e5 Kf4e3 92. Re5f5 Ba6d3 93. Rf5c5 Pa4a3 94. Ke1d1 Pa3a2 95. Rc5e5 Pa2a1=B 96. Re5c5 Ke3f2 97. Kd1d2 Ba1g7 98. Rc5c2 Bg7f6 99. Kd2c1 Kf2g3 100. Pg4g5 Bf6e7 \n",
      "1. Pd2d4 Pc7c5 2. Pe2e3 Pe7e6 3. Bf1e2 Pf7f6 4. Qd1d2 Nb8c6 5. Pb2b3 Ke8e7 6. Qd2d3 Pf6f5 7. Nb1a3 Ph7h6 8. Pc2c4 Nc6b8 9. Be2f3 Pe6e5 10. Qd3c2 Nb8a6 11. Qc2c3 Rh8h7 12. Bf3xb7 Na6b8 13. Na3b1 Pf5f4 14. Bb7c6 Ke7f7 15. Ng1f3 Pd7d6 16. Pd4xc5 Kf7f6 17. Pg2g3 Ph6h5 18. Qc3xe5 Pd6xe5 19. Pa2a4 Ph5h4 20. Nf3xh4 Nb8xc6 21. Pe3e4 Bc8f5 22. Rh1f1 Qd8d4 23. Bc1a3 Qd4c3 24. Nb1d2 Nc6e7 25. Nh4f3 Ne7g6 26. Nf3xe5 Pf4f3 27. Ra1a2 Bf5d7 28. Ra2c2 Rh7h6 29. Ne5xd7 Kf6f7 30. Pc5c6 Qc3xc4 31. Nd7b6 Qc4a6 32. Ba3b2 Bf8c5 33. Bb2d4 Rh6h7 34. Pe4e5 Ng6h8 35. Bd4a1 Qa6b7 36. Rc2c3 Nh8g6 37. Rc3c2 Kf7f8 38. Rc2c1 Bc5e7 39. Nb6c8 Ng6h4 40. Pc6xb7 Ra8b8 41. Ba1d4 Be7a3 42. Nd2e4 Rh7h6 43. Ne4f6 Rh6h5 44. Pe5e6 Ng8xf6 45. Rc1c2 Pa7a6 46. Nc8d6 Pg7g5 47. Pa4a5 Rb8c8 48. Bd4b2 Rc8c4 49. Nd6c8 Rc4xc2 50. Bb2e5 Kf8e8 51. Be5b2 Ba3xb2 52. Pb7b8=Q Ke8d8 53. Qb8a7 Bb2c3 54. Ke1d1 Rc2b2 55. Ph2h3 Bc3d2 56. Pg3xh4 Bd2e1 57. Rf1g1 Nf6h7 58. Rg1f1 Be1d2 59. Pb3b4 Bd2c3 60. Nc8e7 Bc3g7 61. Pb4b5 Pg5xh4 62. Qa7b6 Kd8e8 63. Ne7f5 Rb2xf2 64. Qb6xf2 Rh5g5 65. Nf5g3 Bg7e5 66. Pe6e7 Rg5g4 67. Pb5xa6 Rg4d4 68. Qf2d2 Be5c7 69. Ng3h5 Rd4f4 70. Qd2c1 Rf4f7 71. Qc1g5 Bc7d8 72. Rf1e1 Bd8b6 73. Qg5g7 Bb6d4 74. Re1f1 Bd4f6 75. Rf1g1 Nh7f8 76. Qg7h7 Ke8xe7 77. Nh5g7 Nf8e6 78. Kd1c2 Bf6g5 79. Kc2b3 Ke7d8 80. Rg1g4 Rf7f5 81. Kb3b4 Kd8d7 82. Pa6a7 Rf5c5 83. Kb4a4 Bg5f6 84. Ka4b3 Rc5d5 85. Rg4b4 Rd5f5 86. Ng7h5 Kd7e8 87. Pa7a8=N Ke8f8 88. Qh7g7 Bf6xg7 89. Nh5f6 Rf5f4 90. Pa5a6 Rf4f5 91. Rb4d4 Rf5xf6 92. Kb3c2 Rf6g6 93. Kc2c1 Ne6c7 94. Rd4d5 Kf8g8 95. Rd5b5 Rg6g1 96. Kc1d2 Nc7xb5 97. Kd2d3 Bg7a1 98. Pa6a7 Ba1h8 99. Kd3e4 Bh8c3 100. Ke4e3 Rg1g6 \n",
      "1. Ng1h3 Ph7h6 2. Nb1a3 Pg7g6 3. Pg2g4 Pg6g5 4. Pf2f4 Nb8c6 5. Pd2d3 Pd7d5 6. Bf1g2 Nc6b4 7. Nh3f2 Ra8b8 8. Na3c4 Pa7a6 9. Pf4xg5 Bf8g7 10. Ph2h3 Pc7c6 11. Nc4d6 Qd8xd6 12. Bg2f3 Ph6h5 13. Pb2b3 Qd6h6 14. Rh1h2 Nb4xc2 15. Qd1xc2 Bg7f6 16. Qc2b1 Pb7b5 17. Pg4xh5 Bc8e6 18. Pg5xf6 Be6f5 19. Rh2g2 Bf5g6 20. Ph5xg6 Qh6f4 21. Rg2g1 Rb8b6 22. Pg6g7 Qf4xf3 23. Bc1d2 Rh8h7 24. Bd2c3 Qf3f4 25. Pb3b4 Pe7e6 26. Ke1f1 Qf4c7 27. Rg1g2 Rh7xh3 28. Rg2g3 Pc6c5 29. Pe2e4 Pd5xe4 30. Pa2a4 Rb6b7 31. Pa4xb5 Rb7a7 32. Qb1b3 Rh3xg3 33. Pb4xc5 Pe6e5 34. Kf1e1 Rg3f3 35. Ke1f1 Qc7b6 36. Kf1g1 Ke8d7 37. Ra1a2 Qb6d8 38. Kg1f1 Rf3f4 39. Ra2a5 Ng8e7 40. Qb3c2 Rf4f3 41. Ra5a3 Qd8a5 42. Kf1e2 Pa6xb5 43. Ra3a4 Rf3h3 44. Ra4a3 Rh3e3 45. Ke2d1 Re3f3 46. Qc2b3 Qa5a4 47. Bc3e1 Ne7c6 48. Pg7g8=R Qa4xa3 49. Rg8b8 Nc6d8 50. Qb3c2 Pe4e3 51. Be1d2 Pe3e2 52. Kd1xe2 Rf3f4 53. Nf2g4 Qa3c3 54. Qc2c1 Qc3a3 55. Rb8a8 Rf4xf6 56. Ra8xa7 Nd8b7 57. Qc1h1 Kd7e6 58. Bd2e1 Ke6f5 59. Ke2e3 Rf6h6 60. Ke3d2 Rh6h5 61. Kd2c2 Rh5h4 62. Pd3d4 Qa3g3 63. Ra7a4 Kf5xg4 64. Kc2b2 Qg3xe1 65. Pd4d5 Kg4f5 66. Ra4a3 Kf5f4 67. Kb2b3 Qe1f1 68. Kb3b4 Qf1a1 69. Qh1e4 Kf4g5 70. Qe4g4 Kg5f6 71. Pd5d6 Rh4h8 72. Ra3e3 Rh8e8 73. Qg4g2 Qa1h1 74. Pd6d7 Kf6f5 75. Qg2g7 Qh1g1 76. Re3c3 Re8b8 77. Pd7d8=B Qg1a1 78. Qg7g6 Pf7xg6 79. Bd8f6 Qa1h1 80. Bf6g5 Rb8d8 81. Rc3c4 Qh1h2 82. Bg5e7 Rd8h8 83. Rc4c1 Qh2a2 84. Rc1d1 Qa2h2 85. Pc5c6 Rh8b8 86. Rd1d8 Qh2h4 87. Kb4c3 Pe5e4 88. Be7b4 Qh4e1 89. Kc3b3 Pe4e3 90. Rd8d4 Pg6g5 91. Kb3b2 Rb8h8 92. Bb4a5 Qe1b1 93. Kb2c3 Qb1f1 94. Rd4h4 Qf1f2 95. Ba5b4 Qf2b2 96. Kc3d3 Rh8d8 97. Kd3xe3 Pg5g4 98. Rh4h2 Qb2e2 99. Ke3xe2 Rd8d5 100. Rh2h7 Kf5g5 \n",
      "1. Ph2h4 Pf7f6 2. Nb1a3 Pg7g6 3. Pe2e4 Bf8h6 4. Na3b1 Pa7a5 5. Rh1h3 Bh6g5 6. Rh3h1 Pa5a4 7. Bf1a6 Ra8a7 8. Pg2g4 Pc7c6 9. Ng1f3 Bg5xd2 10. Nb1xd2 Pe7e5 11. Ba6d3 Ra7a6 12. Bd3xa6 Ke8f8 13. Ba6e2 Qd8c7 14. Nd2b3 Ng8e7 15. Ra1b1 Qc7a5 16. Bc1d2 Kf8g7 17. Nf3h2 Qa5b5 18. Rh1g1 Rh8f8 19. Bd2h6 Kg7h8 20. Qd1d5 Ne7xd5 21. Be2c4 Qb5xb3 22. Pc2c3 Rf8g8 23. Nh2f3 Pc6c5 24. Nf3g5 Nd5xc3 25. Pa2xb3 Rg8g7 26. Ng5e6 Nc3e2 27. Ne6f4 Rg7f7 28. Nf4d3 Pf6f5 29. Rb1c1 Nb8a6 30. Rg1h1 Pd7d5 31. Ke1f1 Ne2d4 32. Rc1d1 Pf5xg4 33. Nd3xc5 Nd4e6 34. Rd1a1 Pd5d4 35. Ra1a3 Pb7b6 36. Pf2f4 Pe5xf4 37. Ra3xa4 Na6xc5 38. Bc4a6 Pb6b5 39. Bh6g5 Ph7h5 40. Ra4a1 Rf7f8 41. Bg5f6 Rf8xf6 42. Rh1g1 Kh8h7 43. Kf1f2 Kh7h8 44. Rg1g3 Nc5xa6 45. Rg3xg4 Ne6d8 46. Rg4xg6 Nd8b7 47. Ra1a2 Nb7a5 48. Kf2e2 Bc8e6 49. Pe4e5 Be6g4 50. Ke2d2 Rf6b6 51. Kd2d3 Kh8h7 52. Ra2a1 Bg4h3 53. Pe5e6 Pf4f3 54. Ra1f1 Rb6b8 55. Rg6h6 Kh7g7 56. Rf1g1 Kg7xh6 57. Pb3b4 Rb8h8 58. Rg1h1 Na5c4 59. Pb2b3 Nc4e3 60. Rh1b1 Rh8e8 61. Rb1d1 Re8h8 62. Rd1h1 Kh6g6 63. Rh1h2 Kg6h7 64. Rh2b2 Ne3c2 65. Kd3e4 Pd4d3 66. Ke4xd3 Na6b8 67. Kd3c3 Pf3f2 68. Kc3d3 Nb8a6 69. Kd3e4 Pf2f1=B 70. Rb2b1 Rh8d8 71. Rb1c1 Rd8e8 72. Rc1b1 Nc2e1 73. Ke4d4 Kh7h8 74. Kd4d5 Na6c7 75. Kd5e4 Bh3f5 76. Ke4f4 Bf5e4 77. Kf4e5 Be4f5 78. Ke5d4 Bf1c4 79. Kd4c3 Bf5d3 80. Pe6e7 Re8b8 81. Kc3d2 Rb8g8 82. Pb3xc4 Rg8a8 83. Kd2e3 Bd3f5 84. Rb1b2 Ra8g8 85. Pe7e8=B Nc7a6 86. Ke3f4 Bf5h7 87. Rb2d2 Na6c5 88. Rd2d1 Rg8f8 89. Kf4g3 Bh7e4 90. Rd1d2 Rf8f7 91. Rd2b2 Ne1c2 92. Pc4xb5 Nc2e3 93. Rb2d2 Ne3g2 94. Be8xf7 Nc5e6 95. Rd2e2 Be4b7 96. Re2b2 Ne6d4 97. Bf7xh5 Bb7d5 98. Kg3g4 Kh8h7 99. Kg4g5 Ng2f4 100. Bh5e8 Nf4g6 \n"
     ]
    }
   ],
   "source": [
    "# test fen,\n",
    "for repeat in range(10):\n",
    "    game = ramen_chess.Game()\n",
    "    for i in range(200):\n",
    "        p_board = chess.Board(game.fen())\n",
    "        fen = game.fen()\n",
    "        p_fen = p_board.fen(en_passant=\"fen\")\n",
    "        try:\n",
    "            assert fen == p_fen\n",
    "        except:\n",
    "            print(fen+\"\\n=?=\\n\"+p_fen)\n",
    "        moves = game.legal_moves()\n",
    "        moves_uci = {move.uci() for move in moves}\n",
    "        p_moves_uci = {move.uci() for move in p_board.legal_moves}\n",
    "        try:\n",
    "            assert moves_uci == p_moves_uci\n",
    "        except:\n",
    "            print(game.board)\n",
    "            print(*moves_uci)\n",
    "            print(*p_moves_uci)\n",
    "            print(moves_uci - p_moves_uci)\n",
    "            print(p_moves_uci - moves_uci)\n",
    "            break\n",
    "        if moves == []:\n",
    "            if game.is_check():\n",
    "                print(\"Checkmate:\")\n",
    "            else:\n",
    "                print(\"Stalemate:\")\n",
    "            break\n",
    "        else:\n",
    "            game.move(random.choice(moves))\n",
    "    print(game.pgn())"
   ]
  },
  {
   "cell_type": "code",
   "execution_count": 118,
   "metadata": {},
   "outputs": [],
   "source": [
    "# test the check, checkmate, stalemate\n",
    "fen = \"r1b3n1/p2k4/1ppPpp1b/4Pq2/PP1P4/N1n3Pp/5R1P/3KNB1R w - - 5 26\"\n",
    "game=Game(Position.from_fen(fen))\n",
    "assert game.is_check()\n",
    "assert game.is_checkmate()\n",
    "# stalemate:\n",
    "fen = \"k7/2Q5/8/8/8/8/8/4K3 b - - 0 1\"\n",
    "game=Game(Position.from_fen(fen))\n",
    "assert not game.is_check()\n",
    "assert game.is_stalemate()"
   ]
  },
  {
   "cell_type": "code",
   "execution_count": null,
   "metadata": {},
   "outputs": [
    {
     "name": "stdout",
     "output_type": "stream",
     "text": [
      "8 | . . . . . . . . \n",
      "7 | . ♚ . ♙ . . . . \n",
      "6 | . . . . . . . . \n",
      "5 | . . . . . . . . \n",
      "4 | . . . . . . . . \n",
      "3 | . . . . . . . . \n",
      "2 | . ♔ . . . . . . \n",
      "1 | . . . . . . . . \n",
      "   ––––––––––––––––\n",
      "    a b c d e f g h\n",
      "Kb2a1 Kb2a2 Kb2a3 Kb2b1 Kb2b3 Kb2c1 Kb2c2 Kb2c3 Pd7d8=Q Pd7d8=R Pd7d8=B Pd7d8=N\n"
     ]
    }
   ],
   "source": [
    "# test promotion\n",
    "fen=\"8/1k1P4/8/8/8/8/1K6/8 w - - 0 1\"\n",
    "game = Game(Position.from_fen(fen))\n",
    "print(game.board)\n",
    "print(*game.legal_moves())\n"
   ]
  }
 ],
 "metadata": {
  "kernelspec": {
   "display_name": "base",
   "language": "python",
   "name": "python3"
  },
  "language_info": {
   "codemirror_mode": {
    "name": "ipython",
    "version": 3
   },
   "file_extension": ".py",
   "mimetype": "text/x-python",
   "name": "python",
   "nbconvert_exporter": "python",
   "pygments_lexer": "ipython3",
   "version": "3.9.12"
  }
 },
 "nbformat": 4,
 "nbformat_minor": 2
}
