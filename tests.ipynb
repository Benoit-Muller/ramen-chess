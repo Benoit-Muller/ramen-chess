{
 "cells": [
  {
   "cell_type": "code",
   "execution_count": null,
   "metadata": {},
   "outputs": [
    {
     "data": {
      "text/plain": [
       "<module 'ramen_chess' from '/Users/benoitmuller/Documents/lichess-bot/engines/foggyramen/ramen_chess.py'>"
      ]
     },
     "execution_count": 1,
     "metadata": {},
     "output_type": "execute_result"
    }
   ],
   "source": [
    "import ramen_chess as chess\n",
    "import chess as pchess\n",
    "import random\n",
    "import importlib\n",
    "importlib.reload(chess)"
   ]
  },
  {
   "cell_type": "code",
   "execution_count": 3,
   "metadata": {},
   "outputs": [
    {
     "name": "stdout",
     "output_type": "stream",
     "text": [
      "Testing Square class\n",
      "Testing Move class\n",
      "Testing Board class\n",
      "fastest mate:\n",
      "8 | ♜ ♞ ♝ . ♚ ♝ ♞ ♜ \n",
      "7 | ♟ ♟ ♟ ♟ . ♟ ♟ ♟ \n",
      "6 | . . . . ♟ . . . \n",
      "5 | . . . . . . . . \n",
      "4 | . . . . . . ♙ ♛ \n",
      "3 | . . . . . ♙ . . \n",
      "2 | ♙ ♙ ♙ ♙ ♙ . . ♙ \n",
      "1 | ♖ ♘ ♗ ♕ ♔ ♗ ♘ ♖ \n",
      "   ––––––––––––––––\n",
      "    a b c d e f g h\n",
      "Testing Game class\n",
      "1. Pf2f3 Pe7e6 2. Pg2g4 Qd8h4 \n",
      "8 | ♜ ♞ ♝ . ♚ ♝ ♞ ♜ \n",
      "7 | ♟ ♟ ♟ ♟ . ♟ ♟ ♟ \n",
      "6 | . . . . ♟ . . . \n",
      "5 | . . . . . . . . \n",
      "4 | . . . . . . ♙ ♛ \n",
      "3 | . . . . . ♙ . . \n",
      "2 | ♙ ♙ ♙ ♙ ♙ . . ♙ \n",
      "1 | ♖ ♘ ♗ ♕ ♔ ♗ ♘ ♖ \n",
      "   ––––––––––––––––\n",
      "    a b c d e f g h\n",
      "White to move.\n",
      "Pa2a3 Pa2a4 Nb1c3 Nb1a3 Pb2b3 Pb2b4 Pc2c3 Pc2c4 Pd2d3 Pd2d4 Ke1f2 Pe2e3 Pe2e4 Bf1g2 Bf1h3 Pf3f4 Ng1h3 Pg4g5 Ph2h3\n",
      "Pf2f3 Pe7e6 Pg2g4 Qd8h4\n",
      "1. Pf2f3 Pe7e6 2. Pg2g4 \n",
      "8 | ♜ ♞ ♝ ♛ ♚ ♝ ♞ ♜ \n",
      "7 | ♟ ♟ ♟ ♟ . ♟ ♟ ♟ \n",
      "6 | . . . . ♟ . . . \n",
      "5 | . . . . . . . . \n",
      "4 | . . . . . . ♙ . \n",
      "3 | . . . . . ♙ . . \n",
      "2 | ♙ ♙ ♙ ♙ ♙ . . ♙ \n",
      "1 | ♖ ♘ ♗ ♕ ♔ ♗ ♘ ♖ \n",
      "   ––––––––––––––––\n",
      "    a b c d e f g h\n",
      "Black to move.\n",
      "8 | ♜ ♞ ♝ . ♚ ♝ ♞ ♜ \n",
      "7 | ♟ ♟ ♟ ♟ . ♟ ♟ ♟ \n",
      "6 | . . . . ♟ . . . \n",
      "5 | . . . . . . . . \n",
      "4 | . . . . . . ♙ ♛ \n",
      "3 | . . . . . ♙ . . \n",
      "2 | ♙ ♙ ♙ ♙ ♙ . . ♙ \n",
      "1 | ♖ ♘ ♗ ♕ ♔ ♗ ♘ ♖ \n",
      "   ––––––––––––––––\n",
      "    a b c d e f g h\n",
      "rnb1kbnr/pppp1ppp/1111p111/11111111/111111Pq/11111P11/PPPPP11P/RNBQKBNR\n",
      "All tests passed\n"
     ]
    }
   ],
   "source": [
    "# Test the Square class\n",
    "print(\"Testing Square class\")\n",
    "pos1= chess.Square(4,3)\n",
    "pos2= chess.Square(\"e\",\"4\")\n",
    "assert pos1 == pos2\n",
    "assert str(pos1) == \"e4\"\n",
    "pos3 = pos1 + (1,1)\n",
    "assert pos3 == chess.Square(5,4)\n",
    "pos4 = chess.Square(pos1[0], pos1[1])\n",
    "assert pos4 == pos1\n",
    "\n",
    "# Test the Move class\n",
    "print(\"Testing Move class\")\n",
    "move1 = chess.Move(pos1, pos3)\n",
    "move2 = chess.Move(\"e4\", \"f5\")\n",
    "assert move1 == move2\n",
    "assert str(move1) == \"e4f5\"\n",
    "\n",
    "# Test the Board class\n",
    "print(\"Testing Board class\")\n",
    "board = chess.Board()\n",
    "board.set_starting_position()\n",
    "assert board[0,0].name == \"R\"\n",
    "#print(\"initial position:\")\n",
    "#print(board)\n",
    "board.move(\"f2f3\")\n",
    "board.move(\"e7e6\")\n",
    "board.move(\"g2g4\")\n",
    "print(\"fastest mate:\")\n",
    "board.move(\"d8h4\",show=True)\n",
    "\n",
    "print(\"Testing Game class\")\n",
    "game = chess.Game()\n",
    "game.move(\"f2f3\")\n",
    "game.move(\"e7e6\")\n",
    "game.move(\"g2g4\")\n",
    "game.move(\"d8h4\")\n",
    "print(game)\n",
    "moves= game.pseudo_legal_moves()\n",
    "print(*moves)\n",
    "print(*game.moves)\n",
    "game.undo_move()\n",
    "print(game)\n",
    "board = chess.Board.from_fen(\"rnb1kbnr/pppp1ppp/1111p111/11111111/111111Pq/11111P11/PPPPP11P/RNBQKBNR\")\n",
    "print(board)\n",
    "print(board.fen())\n",
    "\n",
    "print(\"All tests passed\")\n"
   ]
  },
  {
   "cell_type": "code",
   "execution_count": null,
   "metadata": {},
   "outputs": [
    {
     "name": "stdout",
     "output_type": "stream",
     "text": [
      "Game starting, to end game type 'exit'.\n",
      "\n",
      "8 | ♜ ♞ ♝ ♛ ♚ ♝ ♞ ♜ \n",
      "7 | ♟ ♟ ♟ ♟ ♟ ♟ ♟ ♟ \n",
      "6 | . . . . . . . . \n",
      "5 | . . . . . . . . \n",
      "4 | . . . . . . . . \n",
      "3 | . . . . . . . . \n",
      "2 | ♙ ♙ ♙ ♙ ♙ ♙ ♙ ♙ \n",
      "1 | ♖ ♘ ♗ ♕ ♔ ♗ ♘ ♖ \n",
      "   ––––––––––––––––\n",
      "    a b c d e f g h\n",
      "White to move.\n",
      "Possible moves: Pa2a3 Pa2a4 Nb1c3 Nb1a3 Pb2b3 Pb2b4 Pc2c3 Pc2c4 Pd2d3 Pd2d4 Pe2e3 Pe2e4 Pf2f3 Pf2f4 Ng1h3 Ng1f3 Pg2g3 Pg2g4 Ph2h3 Ph2h4\n",
      "1. Pe2e4 \n",
      "8 | ♜ ♞ ♝ ♛ ♚ ♝ ♞ ♜ \n",
      "7 | ♟ ♟ ♟ ♟ ♟ ♟ ♟ ♟ \n",
      "6 | . . . . . . . . \n",
      "5 | . . . . . . . . \n",
      "4 | . . . . ♙ . . . \n",
      "3 | . . . . . . . . \n",
      "2 | ♙ ♙ ♙ ♙ . ♙ ♙ ♙ \n",
      "1 | ♖ ♘ ♗ ♕ ♔ ♗ ♘ ♖ \n",
      "   ––––––––––––––––\n",
      "    a b c d e f g h\n",
      "Black to move.\n",
      "Possible moves: Pa7a6 Pa7a5 Pb7b6 Pb7b5 Nb8a6 Nb8c6 Pc7c6 Pc7c5 Pd7d6 Pd7d5 Pe7e6 Pe7e5 Pf7f6 Pf7f5 Pg7g6 Pg7g5 Ng8f6 Ng8h6 Ph7h6 Ph7h5\n"
     ]
    }
   ],
   "source": [
    "# test game\n",
    "# the interactive mode\n",
    "game = chess.Game()\n",
    "game.play_interactive()\n",
    "# 1. Pe2e4 Pe7e5 2. Ng1f3 Nb8c6 3. Bf1c4 Bf8c5 4. O-O "
   ]
  },
  {
   "cell_type": "code",
   "execution_count": 4,
   "metadata": {},
   "outputs": [
    {
     "name": "stdout",
     "output_type": "stream",
     "text": [
      "1. Pe2e4 Nb8a6 2. Ke1e2 Pf7f5 3. Pd2d3 Ph7h5 4. Pc2c4 Rh8h7 5. Bc1e3 Ng8h6 6. Ng1h3 Nh6g4 7. Pf2f4 Pd7d5 8. Qd1a4 Pc7c6 9. Qa4b3 Qd8a5 10. Pd3d4 Qa5b4 11. Rh1g1 Pg7g5 12. Pe4e5 Qb4xb3 13. Pe5e6 Qb3xc4 14. Ke2f3 Bc8xe6 15. Nb1a3 Bf8g7 16. Ra1c1 Ng4xh2 17. Kf3f2 Qc4c5 18. Nh3xg5 Qc5c4 19. Rc1c3 Na6c5 20. Kf2g3 Nh2g4 21. Rc3xc4 Ng4h2 22. Pd4xc5 Be6g8 23. Ng5f3 Bg8f7 24. Kg3h4 Pe7e6 25. Rg1h1 Rh7h8 \n",
      "8 | ♜ . . . ♚ . . ♜ \n",
      "7 | ♟ ♟ . . . ♝ ♝ . \n",
      "6 | . . ♟ . ♟ . . . \n",
      "5 | . . ♙ ♟ . ♟ . ♟ \n",
      "4 | . . ♖ . . ♙ . ♔ \n",
      "3 | ♘ . . . ♗ ♘ . . \n",
      "2 | ♙ ♙ . . . . ♙ ♞ \n",
      "1 | . . . . . ♗ . ♖ \n",
      "   ––––––––––––––––\n",
      "    a b c d e f g h\n",
      "White to move.\n"
     ]
    }
   ],
   "source": [
    "# test the random mode\n",
    "game = chess.Game()\n",
    "for i in range(50):\n",
    "    moves = game.legal_moves()\n",
    "    if moves == []:\n",
    "        if game.is_checkmate():\n",
    "            print(\"Checkmate\")\n",
    "        elif game.is_stalemate():\n",
    "            print(\"Stalemate\")\n",
    "        else:\n",
    "            assert False\n",
    "    game.move(random.choice(moves))\n",
    "print(game)"
   ]
  },
  {
   "cell_type": "code",
   "execution_count": null,
   "metadata": {},
   "outputs": [],
   "source": [
    "# TODO: test the python chess brdige"
   ]
  }
 ],
 "metadata": {
  "kernelspec": {
   "display_name": "base",
   "language": "python",
   "name": "python3"
  },
  "language_info": {
   "codemirror_mode": {
    "name": "ipython",
    "version": 3
   },
   "file_extension": ".py",
   "mimetype": "text/x-python",
   "name": "python",
   "nbconvert_exporter": "python",
   "pygments_lexer": "ipython3",
   "version": "3.9.12"
  }
 },
 "nbformat": 4,
 "nbformat_minor": 2
}
