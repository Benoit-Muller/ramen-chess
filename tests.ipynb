{
 "cells": [
  {
   "cell_type": "code",
   "execution_count": 9,
   "metadata": {},
   "outputs": [
    {
     "data": {
      "text/plain": [
       "<module 'ramen_chess' from '/Users/benoitmuller/Documents/lichess-bot/engines/ramen_chess/ramen_chess.py'>"
      ]
     },
     "execution_count": 9,
     "metadata": {},
     "output_type": "execute_result"
    }
   ],
   "source": [
    "import ramen_chess\n",
    "from ramen_chess import *\n",
    "import chess\n",
    "import random\n",
    "import importlib\n",
    "importlib.reload(ramen_chess)"
   ]
  },
  {
   "cell_type": "code",
   "execution_count": null,
   "metadata": {},
   "outputs": [
    {
     "name": "stdout",
     "output_type": "stream",
     "text": [
      "Testing Square class\n",
      "Testing Move class\n",
      "Testing Board class\n",
      "fastest mate:\n",
      "8 | ♜ ♞ ♝ . ♚ ♝ ♞ ♜ \n",
      "7 | ♟ ♟ ♟ ♟ . ♟ ♟ ♟ \n",
      "6 | . . . . ♟ . . . \n",
      "5 | . . . . . . . . \n",
      "4 | . . . . . . ♙ ♛ \n",
      "3 | . . . . . ♙ . . \n",
      "2 | ♙ ♙ ♙ ♙ ♙ . . ♙ \n",
      "1 | ♖ ♘ ♗ ♕ ♔ ♗ ♘ ♖ \n",
      "   ––––––––––––––––\n",
      "    a b c d e f g h\n",
      "Testing Game class\n",
      "1. Pf2f3 Pe7e6 2. Pg2g4 Qd8h4 \n",
      "8 | ♜ ♞ ♝ . ♚ ♝ ♞ ♜ \n",
      "7 | ♟ ♟ ♟ ♟ . ♟ ♟ ♟ \n",
      "6 | . . . . ♟ . . . \n",
      "5 | . . . . . . . . \n",
      "4 | . . . . . . ♙ ♛ \n",
      "3 | . . . . . ♙ . . \n",
      "2 | ♙ ♙ ♙ ♙ ♙ . . ♙ \n",
      "1 | ♖ ♘ ♗ ♕ ♔ ♗ ♘ ♖ \n",
      "   ––––––––––––––––\n",
      "    a b c d e f g h\n",
      "Checkmate.\n",
      "Pa2a3 Pa2a4 Nb1c3 Nb1a3 Pb2b3 Pb2b4 Pc2c3 Pc2c4 Pd2d3 Pd2d4 Ke1f2 Pe2e3 Pe2e4 Bf1g2 Bf1h3 Pf3f4 Ng1h3 Pg4g5 Ph2h3\n",
      "Pf2f3 Pe7e6 Pg2g4 Qd8h4\n",
      "1. Pf2f3 Pe7e6 2. Pg2g4 \n",
      "8 | ♜ ♞ ♝ ♛ ♚ ♝ ♞ ♜ \n",
      "7 | ♟ ♟ ♟ ♟ . ♟ ♟ ♟ \n",
      "6 | . . . . ♟ . . . \n",
      "5 | . . . . . . . . \n",
      "4 | . . . . . . ♙ . \n",
      "3 | . . . . . ♙ . . \n",
      "2 | ♙ ♙ ♙ ♙ ♙ . . ♙ \n",
      "1 | ♖ ♘ ♗ ♕ ♔ ♗ ♘ ♖ \n",
      "   ––––––––––––––––\n",
      "    a b c d e f g h\n",
      "Black to move.\n",
      "8 | ♜ ♞ ♝ . ♚ ♝ ♞ ♜ \n",
      "7 | ♟ ♟ ♟ ♟ . ♟ ♟ ♟ \n",
      "6 | . . . . ♟ . . . \n",
      "5 | . . . . . . . . \n",
      "4 | . . . . . . ♙ ♛ \n",
      "3 | . . . . . ♙ . . \n",
      "2 | ♙ ♙ ♙ ♙ ♙ . . ♙ \n",
      "1 | ♖ ♘ ♗ ♕ ♔ ♗ ♘ ♖ \n",
      "   ––––––––––––––––\n",
      "    a b c d e f g h\n",
      "rnb1kbnr/pppp1ppp/4p3/8/6Pq/5P2/PPPPP2P/RNBQKBNR\n",
      "All tests passed\n"
     ]
    }
   ],
   "source": [
    "# Test the Square class\n",
    "print(\"Testing Square class\")\n",
    "pos1= ramen_chess.Square(4,3)\n",
    "pos2= ramen_chess.Square(\"e\",\"4\")\n",
    "assert pos1 == pos2\n",
    "assert str(pos1) == \"e4\"\n",
    "pos3 = pos1 + (1,1)\n",
    "assert pos3 == ramen_chess.Square(5,4)\n",
    "pos4 = ramen_chess.Square(pos1[0], pos1[1])\n",
    "assert pos4 == pos1\n",
    "\n",
    "# Test the Move class\n",
    "print(\"Testing Move class\")\n",
    "move1 = ramen_chess.Move(pos1, pos3)\n",
    "move2 = ramen_chess.Move(\"e4\", \"f5\")\n",
    "assert move1 == move2\n",
    "assert str(move1) == \"e4f5\"\n",
    "\n",
    "# Test the Board class\n",
    "print(\"Testing Board class\")\n",
    "board = ramen_chess.Board()\n",
    "board.set_starting_position()\n",
    "assert board[0,0].name == \"R\"\n",
    "#print(\"initial position:\")\n",
    "#print(board)\n",
    "board.move(\"f2f3\")\n",
    "board.move(\"e7e6\")\n",
    "board.move(\"g2g4\")\n",
    "print(\"fastest mate:\")\n",
    "board.move(\"d8h4\",show=True)\n",
    "\n",
    "print(\"Testing Game class\")\n",
    "game = ramen_chess.Game()\n",
    "game.move(\"f2f3\")\n",
    "game.move(\"e7e6\")\n",
    "game.move(\"g2g4\")\n",
    "game.move(\"d8h4\")\n",
    "print(game)\n",
    "moves= game.pseudo_legal_moves()\n",
    "print(*moves)\n",
    "print(*game.moves)\n",
    "game.undo_move()\n",
    "print(game)\n",
    "board = ramen_chess.Board.from_fen(\"rnb1kbnr/pppp1ppp/1111p111/11111111/111111Pq/11111P11/PPPPP11P/RNBQKBNR\")\n",
    "print(board)\n",
    "print(board.fen())\n",
    "\n",
    "print(\"All tests passed\")"
   ]
  },
  {
   "cell_type": "code",
   "execution_count": 3,
   "metadata": {},
   "outputs": [],
   "source": [
    "# test game\n",
    "# the interactive mode\n",
    "game = ramen_chess.Game()\n",
    "#game.play_interactive()\n",
    "# 1. Pe2e4 Pe7e5 2. Ng1f3 Nb8c6 3. Bf1c4 Bf8c5 4. O-O "
   ]
  },
  {
   "cell_type": "code",
   "execution_count": 4,
   "metadata": {},
   "outputs": [
    {
     "name": "stdout",
     "output_type": "stream",
     "text": [
      "Checkmate:\n",
      "1. Pe2e4 Pd7d6 2. Nb1a3 Pc7c5 3. Bf1c4 Pb7b6 4. Pf2f3 Ng8f6 5. Bc4f1 Pg7g5 6. Pd2d4 Nf6d5 7. Pd4xc5 Nd5c3 8. Ng1h3 Bc8e6 9. Ke1d2 Ke8d7 10. Pb2b4 Be6xh3 11. Pg2xh3 Nb8a6 12. Pe4e5 Nc3xa2 13. Kd2e1 Pd6d5 14. Qd1xd5 Kd7e8 15. Ra1b1 Na2c3 16. Qd5xa8 Nc3b5 17. Bf1xb5 \n",
      "1. Pb2b3 Pa7a5 2. Pc2c3 Pd7d5 3. Bc1a3 Pc7c6 4. Pd2d3 Bc8h3 5. Pd3d4 Nb8d7 6. Qd1d3 Nd7b8 7. Pe2e4 Qd8c7 8. Qd3f3 Pf7f6 9. Qf3xh3 Pf6f5 10. Qh3h6 Pe7e6 11. Ba3c1 Pa5a4 12. Bc1g5 Qc7f4 13. Qh6g6 Ke8d7 14. Nb1a3 Pf5xe4 15. Ng1f3 Pe4e3 16. Na3b5 Qf4xd4 17. Nf3d2 Pe6e5 18. Qg6xg7 Kd7e6 19. Nb5d6 Pb7b6 20. Nd6b7 Pb6b5 21. Bf1c4 Bf8b4 22. Ra1d1 Ph7h6 23. Bg5f4 Pa4xb3 24. Rh1g1 Bb4d6 25. Qg7f7 Ke6xf7 26. Nd2e4 Kf7e6 27. Pa2xb3 Ra8a6 28. Pf2f3 Bd6c5 29. Pb3b4 Ng8f6 30. Bc4d3 Nf6d7 31. Bd3f1 Rh8h7 32. Pb4xc5 Qd4xc5 33. Pg2g4 Qc5f8 34. Pc3c4 Qf8c8 35. Rd1d3 Ke6f7 36. Pg4g5 Qc8f8 37. Ph2h4 Qf8c5 38. Rd3b3 Ph6xg5 39. Nb7xc5 Pd5xe4 40. Nc5d3 Rh7h5 41. Bf4xe3 Ra6a1 42. Ke1e2 Kf7e6 43. Pc4c5 Ke6f6 44. Rb3b1 Ra1a6 45. Rb1xb5 Kf6f7 46. Be3c1 Ra6a7 47. Rb5xb8 Nd7f6 48. Rb8b7 Ra7xb7 49. Nd3e1 Nf6d5 50. Bf1h3 Rb7b5 51. Bh3d7 Pg5xh4 52. Ke2d1 Nd5f6 53. Rg1g3 Rh5h8 54. Pf3f4 Pe4e3 55. Kd1e2 Rb5b1 56. Bd7f5 Pe5xf4 57. Bf5g6 Kf7g8 58. Bg6e8 Pf4xg3 59. Ke2f1 Nf6e4 60. Ne1d3 Ne4f6 61. Be8f7 Kg8g7 62. Kf1e2 Rb1b7 63. Nd3e5 Rh8b8 64. Ne5d7 Nf6e8 65. Bf7h5 Rb7c7 66. Bh5xe8 Rc7xd7 67. Be8g6 Rb8b7 68. Bg6c2 Rd7d2 69. Ke2f1 Kg7f7 70. Kf1g1 Kf7f8 71. Bc1a3 Rd2f2 72. Ba3c1 Rf2xc2 73. Kg1h1 Rb7h7 74. Bc1d2 Rh7b7 75. Bd2a5 Rc2c4 76. Ba5e1 Rb7e7 77. Kh1g1 Re7g7 78. Be1a5 Pe3e2 79. Ba5d2 Rc4f4 80. Bd2c1 Rg7a7 81. Bc1xf4 Kf8e8 82. Kg1h1 Pe2e1=R 83. Kh1g2 Ra7b7 84. Bf4b8 Re1e6 85. Bb8d6 Rb7b5 86. Bd6e5 Ke8d7 87. Kg2h3 Kd7e8 88. Be5f4 Rb5b6 89. Kh3xh4 Ke8e7 90. Bf4g5 Ke7d7 91. Kh4g4 Rb6b1 92. Bg5d2 Re6f6 93. Bd2e1 Rf6f7 94. Kg4g5 Rb1b4 95. Kg5g6 Rb4b5 96. Be1xg3 Rf7f8 97. Bg3f4 Rf8h8 98. Kg6f5 Rh8h3 99. Bf4h2 Rb5b8 100. Kf5e5 Rh3h4 \n",
      "1. Pg2g3 Pa7a5 2. Ph2h4 Pe7e5 3. Pc2c4 Bf8a3 4. Pb2b3 Pf7f5 5. Pf2f4 Pb7b5 6. Bf1h3 Pb5b4 7. Qd1c2 Ng8f6 8. Ph4h5 Pg7g5 9. Pf4xe5 Pc7c6 10. Qc2xf5 Ph7h6 11. Qf5f1 Ke8e7 12. Qf1xf6 Ke7e8 13. Bh3f1 Bc8a6 14. Nb1xa3 Ba6b7 15. Qf6f7 Ke8xf7 16. Pe5e6 Kf7e8 17. Pd2d3 Pd7xe6 18. Bc1xg5 Rh8f8 19. Ng1h3 Pc6c5 20. Na3b5 Bb7g2 21. Pd3d4 Ke8d7 22. Ra1d1 Bg2xf1 23. Pd4d5 Rf8f7 24. Nb5d4 Nb8a6 25. Pe2e3 Qd8g8 26. Rd1d3 Qg8f8 27. Rd3d1 Bf1xh3 28. Bg5e7 Ra8d8 29. Nd4xe6 Kd7e8 30. Rd1b1 Rf7xe7 31. Rb1a1 Qf8f6 32. Ne6xd8 Qf6f1 33. Rh1xf1 Re7c7 34. Ra1b1 Bh3c8 35. Rb1d1 Rc7g7 36. Rf1f5 Rg7h7 37. Rf5e5 Ke8d7 38. Rd1d4 Pc5xd4 39. Pd5d6 Rh7g7 40. Re5e7 Kd7xd6 41. Nd8c6 Rg7xg3 42. Re7c7 Na6b8 43. Rc7g7 Pd4xe3 44. Rg7g6 Kd6c5 45. Rg6g7 Nb8d7 46. Rg7xd7 Bc8xd7 47. Nc6a7 Bd7g4 48. Na7c6 Bg4d7 49. Nc6e7 Kc5b6 50. Pa2a3 Rg3g5 51. Ke1e2 Bd7c8 52. Pa3a4 Rg5d5 53. Ne7xc8 Kb6c7 54. Pc4c5 Rd5xh5 55. Ke2d1 Rh5d5 56. Kd1c1 Rd5d1 57. Kc1xd1 Ph6h5 58. Kd1c2 Kc7d7 59. Kc2d1 Ph5h4 60. Nc8d6 Kd7d8 61. Nd6f7 Kd8d7 62. Kd1e1 Kd7e6 63. Ke1e2 Ke6d7 64. Ke2xe3 Ph4h3 65. Ke3f2 Kd7c6 66. Kf2e2 Kc6xc5 67. Nf7d8 Kc5b6 68. Ke2f3 Ph3h2 69. Kf3f4 Ph2h1=B 70. Nd8e6 Bh1d5 71. Ne6f8 Kb6c7 72. Nf8g6 Bd5xb3 73. Kf4e3 Kc7b8 74. Ng6f8 Bb3g8 75. Ke3d2 Kb8c7 76. Nf8d7 Bg8b3 77. Nd7f6 Bb3a2 78. Nf6e4 Ba2b1 79. Ne4f6 Bb1g6 80. Nf6h5 Bg6d3 81. Kd2xd3 Kc7d7 82. Nh5f6 Kd7c8 83. Kd3e2 Pb4b3 84. Nf6g4 Pb3b2 85. Ke2e3 Kc8d8 86. Ng4h2 Pb2b1=B 87. Ke3d2 Bb1c2 88. Kd2e3 Bc2b1 89. Ke3d2 Bb1c2 90. Kd2e2 Bc2h7 91. Ke2e3 Bh7g8 92. Ke3e4 Bg8f7 93. Ke4f5 Kd8c7 94. Kf5f6 Kc7d7 95. Kf6g7 Bf7g8 96. Kg7f6 Bg8b3 97. Kf6e5 Kd7e8 98. Ke5f4 Ke8f8 99. Nh2g4 Kf8e8 100. Kf4e4 Bb3f7 \n",
      "1. Ng1h3 Pa7a6 2. Pc2c4 Pe7e5 3. Nb1a3 Pg7g6 4. Nh3g5 Qd8e7 5. Na3c2 Qe7a3 6. Pb2xa3 Ng8f6 7. Nc2d4 Pa6a5 8. Ph2h3 Nf6g8 9. Pe2e4 Pd7d6 10. Pf2f3 Bc8e6 11. Qd1e2 Ng8f6 12. Ra1b1 Nb8a6 13. Rb1b5 Pe5xd4 14. Rb5b1 Pc7c6 15. Ng5xf7 Nf6g8 16. Rh1h2 Be6xc4 17. Qe2e3 Ng8h6 18. Pe4e5 Pc6c5 19. Qe3c3 Na6c7 20. Bf1d3 Ke8xf7 21. Rb1b3 Ra8d8 22. Bd3xc4 Kf7e7 23. Bc4e2 Nc7e8 24. Qc3d3 Nh6g8 25. Ke1f2 Rd8a8 26. Rb3b4 Ne8g7 27. Pe5xd6 Ke7xd6 28. Rb4b3 Kd6d7 29. Bc1b2 Pg6g5 30. Qd3xh7 Kd7c8 31. Pg2g3 Ng8h6 32. Rh2g2 Pb7b5 33. Qh7d3 Nh6f5 34. Kf2f1 Nf5e3 35. Pd2xe3 Pg5g4 36. Rg2f2 Pb5b4 37. Pa3a4 Ng7e6 38. Pe3e4 Kc8d7 39. Qd3b1 Kd7c7 40. Pe4e5 Ne6g7 41. Rb3c3 Rh8h6 42. Pf3xg4 Ng7f5 43. Bb2a3 Rh6h5 44. Be2d1 Rh5xh3 45. Qb1a1 Rh3h7 46. Ba3xb4 Rh7h2 47. Rc3c1 Kc7b8 48. Bb4a3 Kb8c8 49. Rf2f3 Pd4d3 50. Kf1g1 Nf5xg3 51. Rf3f5 Rh2b2 52. Ba3xb2 Ng3h1 53. Rf5g5 Kc8c7 54. Bd1b3 Pd3d2 55. Rg5h5 Nh1g3 56. Rh5h6 Pd2xc1=R 57. Kg1h2 Rc1h1 58. Kh2xg3 Rh1h2 59. Rh6f6 Rh2h7 60. Bb3c2 Rh7e7 61. Rf6xf8 Ra8b8 62. Kg3h2 Rb8b5 63. Pe5e6 Rb5b3 64. Bb2a3 Rb3b4 65. Qa1f1 Rb4e4 66. Bc2d3 Re4c4 67. Qf1e2 Rc4b4 68. Qe2c2 Rb4xa4 69. Rf8f5 Ra4xg4 70. Ba3xc5 Rg4a4 71. Rf5h5 Ra4a3 72. Bd3f5 Kc7b8 73. Bf5h7 Kb8b7 74. Bc5f2 Re7d7 75. Rh5h3 Rd7d5 76. Pe6e7 Rd5d3 77. Bf2d4 Rd3d1 78. Rh3xa3 Kb7a6 79. Qc2b2 Rd1d2 80. Kh2g1 Rd2f2 81. Bd4e5 Rf2f1 82. Kg1g2 Rf1a1 83. Qb2b4 Ra1f1 84. Ra3e3 Rf1d1 85. Pa2a4 Rd1d2 86. Kg2g3 Rd2b2 87. Re3e1 Rb2b3 88. Kg3g2 Rb3f3 89. Qb4d6 Ka6b7 90. Be5d4 Rf3f4 91. Pe7e8=N Rf4f2 92. Kg2g1 Rf2f7 93. Kg1h2 Rf7f6 94. Re1e2 Rf6f8 95. Qd6c6 Kb7xc6 96. Kh2g3 Kc6d7 97. Bh7c2 Rf8f5 98. Re2h2 Kd7c8 99. Bd4g7 Rf5e5 100. Bc2e4 Re5xe8 \n",
      "1. Pb2b3 Nb8a6 2. Nb1c3 Pc7c6 3. Pa2a4 Pg7g6 4. Pe2e4 Pb7b6 5. Pa4a5 Ng8h6 6. Pd2d4 Bc8b7 7. Nc3a4 Qd8c7 8. Qd1f3 Qc7g3 9. Bf1d3 Pd7d5 10. Pe4e5 Ra8d8 11. Bc1xh6 Qg3h3 12. Pg2g3 Rd8a8 13. Ng1xh3 Bb7c8 14. Nh3f4 Pc6c5 15. Ke1f1 Ra8b8 16. Kf1g2 Rh8g8 17. Pa5xb6 Rb8xb6 18. Qf3e4 Bc8f5 19. Kg2g1 Pc5xd4 20. Ra1a2 Rg8g7 21. Pf2f3 Pe7e6 22. Kg1f1 Rb6b8 23. Pb3b4 Rb8a8 24. Bd3e2 Bf8e7 25. Be2c4 Be7d8 26. Bc4d3 Ke8d7 27. Na4c5 Kd7c7 28. Kf1g1 Na6xc5 29. Nf4g2 Nc5a6 30. Bh6e3 Bd8e7 31. Ra2a1 Pf7f6 32. Be3h6 Pd5xe4 33. Ng2f4 Pe4xd3 34. Ra1xa6 Be7f8 35. Nf4xe6 Kc7b7 36. Ra6b6 Pa7xb6 37. Ne6g5 Rg7f7 38. Pe5xf6 Rf7c7 39. Kg1g2 Rc7c6 40. Rh1c1 Pd3xc2 41. Rc1xc2 Bf5e4 42. Rc2c4 Ra8a4 43. Pf3xe4 Kb7a8 44. Pg3g4 Rc6xc4 45. Kg2h3 Bf8d6 46. Ng5xh7 Ka8b7 47. Kh3g2 Rc4c3 48. Ph2h4 Bd6b8 49. Bh6f8 Bb8e5 50. Bf8d6 Be5xf6 51. Pb4b5 Rc3g3 52. Kg2f1 Bf6e7 53. Nh7f8 Be7g5 54. Nf8e6 Bg5f4 55. Bd6e5 Kb7a7 56. Be5b8 Ka7xb8 57. Ne6c7 Pg6g5 58. Nc7e8 Kb8c8 59. Kf1e2 Rg3e3 60. Ke2d2 Re3e1 61. Kd2xe1 Bf4c7 62. Ne8g7 Bc7f4 63. Ng7e6 Bf4d6 64. Ph4h5 Ra4a7 65. Ke1f1 Pd4d3 66. Kf1e1 Ra7a2 67. Ne6d4 Ra2a3 68. Nd4f3 Bd6b8 69. Nf3g1 Bb8d6 70. Ke1f2 Bd6g3 71. Kf2f3 Bg3d6 72. Kf3g2 Ra3a6 73. Kg2h3 Bd6e7 74. Ng1e2 Be7c5 75. Kh3h2 Kc8b7 76. Pe4e5 Ra6a2 77. Kh2g2 Ra2a3 78. Pe5e6 Ra3a8 79. Kg2h3 Bc5d4 80. Ne2f4 Bd4e5 81. Nf4g2 Be5c7 82. Ng2f4 Ra8a6 83. Nf4d5 Ra6a5 84. Nd5e7 Bc7f4 85. Ne7g8 Bf4c7 86. Ng8f6 Kb7c8 87. Nf6g8 Bc7e5 88. Ng8f6 Be5d6 89. Nf6d5 Bd6b4 90. Nd5f4 Ra5a6 91. Ph5h6 Ra6a7 92. Nf4g6 Bb4e1 93. Kh3g2 Kc8b8 94. Ng6f8 Kb8c7 95. Kg2h1 Kc7d6 96. Nf8g6 Kd6xe6 97. Ng6f8 Ke6e7 98. Kh1h2 Ra7d7 99. Ph6h7 Ke7e8 100. Nf8xd7 Be1c3 \n",
      "1. Ng1f3 Pc7c6 2. Nf3h4 Qd8c7 3. Pf2f4 Ke8d8 4. Pc2c4 Nb8a6 5. Rh1g1 Pb7b5 6. Nb1a3 Pg7g5 7. Pb2b3 Na6b4 8. Pc4c5 Ph7h6 9. Na3xb5 Nb4c2 10. Ke1f2 Kd8e8 11. Nb5d6 Pe7xd6 12. Bc1b2 Pf7f6 13. Qd1e1 Pg5g4 14. Bb2e5 Nc2xe1 15. Pg2g3 Ke8d8 16. Be5b2 Pf6f5 17. Nh4xf5 Ra8b8 18. Pa2a3 Rb8b5 19. Nf5d4 Bc8b7 20. Pf4f5 Rb5a5 21. Nd4f3 Ph6h5 22. Pf5f6 Ne1g2 23. Ph2h3 Bb7a6 24. Bb2c3 Ng8h6 25. Nf3g5 Nh6f5 26. Pe2e4 Ra5a4 27. Ng5f3 Ph5h4 28. Bc3b2 Qc7c8 29. Rg1h1 Nf5g7 30. Nf3h2 Rh8h6 31. Bf1c4 Rh6h7 32. Ra1f1 Pd6xc5 33. Rf1d1 Ba6b5 34. Pf6xg7 Ra4a5 35. Nh2f1 Pd7d6 36. Kf2xg2 Qc8f5 37. Pg7xf8=Q Kd8c7 38. Bc4g8 Pc5c4 39. Qf8f6 Ra5xa3 40. Rd1c1 Pc4xb3 41. Qf6f7 Qf5xf7 42. Pe4e5 Ra3a6 43. Rc1c4 Rh7h6 44. Rh1h2 Qf7e6 45. Rc4f4 Bb5e2 46. Rf4d4 Rh6g6 47. Pg3xh4 Pd6d5 48. Bb2c1 Pg4g3 49. Rd4xd5 Qe6c8 50. Bg8f7 Ra6a2 51. Rd5c5 Qc8h8 52. Rh2h1 Qh8h5 53. Bf7c4 Qh5xe5 54. Bc4a6 Be2h5 55. Rh1h2 Qe5xc5 56. Ba6c8 Kc7xc8 57. Nf1e3 Rg6g7 58. Ne3c2 Qc5d5 59. Kg2f1 Qd5c4 60. Kf1g1 Qc4e2 61. Pd2d3 Kc8d8 62. Rh2h1 Bh5e8 63. Rh1h2 Qe2g2 64. Rh2xg2 Ra2a5 65. Nc2e1 Ra5c5 66. Bc1g5 Rc5xg5 67. Rg2e2 Rg7d7 68. Re2h2 Rd7xd3 69. Ne1g2 Rg5b5 70. Ng2e1 Be8g6 71. Rh2f2 Rd3e3 72. Ne1c2 Re3e4 73. Rf2f3 Pg3g2 74. Rf3f5 Kd8c8 75. Ph4h5 Kc8d7 76. Kg1h2 Re4e5 77. Nc2b4 Pg2g1=R 78. Rf5f8 Rg1f1 79. Rf8f7 Kd7d8 80. Nb4d5 Rf1e1 81. Nd5c7 Bg6xf7 82. Nc7xb5 Kd8c8 83. Ph3h4 Pb3b2 84. Nb5d4 Bf7g8 85. Kh2h3 Re5e8 86. Kh3h2 Bg8h7 87. Nd4b5 Bh7d3 88. Nb5d6 Kc8d7 89. Nd6e4 Re1g1 90. Ne4g3 Re8d8 91. Ng3h1 Rg1g4 92. Kh2h3 Rd8f8 93. Kh3h2 Kd7d6 94. Nh1f2 Pc6c5 95. Nf2xd3 Rf8f1 96. Kh2h3 Rg4xh4 97. Kh3g3 Rh4b4 98. Ph5h6 Rb4b8 99. Nd3e5 Rf1f8 100. Ne5g6 Rb8b6 \n",
      "1. Pe2e4 Pc7c6 2. Bf1a6 Qd8b6 3. Pf2f3 Qb6b3 4. Pe4e5 Qb3a3 5. Ba6d3 Pb7b6 6. Bd3xh7 Qa3c5 7. Pb2b4 Ng8f6 8. Pd2d3 Qc5xg1 9. Rh1xg1 Pa7a5 10. Pg2g3 Nb8a6 11. Nb1a3 Pb6b5 12. Pg3g4 Nf6g8 13. Na3xb5 Na6b8 14. Nb5a3 Pa5a4 15. Rg1g3 Pf7f6 16. Pd3d4 Bc8b7 17. Ke1f2 Pd7d6 18. Bc1f4 Pg7g6 19. Qd1d3 Pd6d5 20. Bf4c1 Pf6f5 21. Bc1g5 Pe7e6 22. Qd3b3 Bf8xb4 23. Ph2h3 Nb8d7 24. Qb3e3 Nd7f8 25. Na3b5 Pf5f4 26. Kf2g1 Bb4d2 27. Qe3f2 Bb7a6 28. Qf2xd2 Pa4a3 29. Nb5c3 Ra8b8 30. Qd2d1 Rb8c8 31. Ra1b1 Rc8a8 32. Rb1b7 Ra8c8 33. Nc3b5 Ba6xb5 34. Rb7g7 Bb5e2 35. Bg5f6 Nf8d7 36. Kg1h1 Rc8a8 37. Bh7xg6 Ke8f8 38. Rg7f7 Kf8e8 39. Qd1g1 Ra8d8 40. Qg1d1 Be2f1 41. Bf6g7 Pf4xg3 42. Rf7f8 Ke8e7 43. Bg7h6 Rd8a8 44. Bg6h7 Pc6c5 45. Rf8xa8 Pc5c4 46. Pg4g5 Ng8xh6 47. Ra8a7 Rh8g8 48. Ph3h4 Rg8g6 49. Bh7xg6 Nh6f7 50. Pf3f4 Nf7h8 51. Bg6f7 Nh8g6 52. Bf7g8 Ke7f8 53. Qd1e1 Pg3g2 54. Kh1h2 Ng6xf4 55. Qe1b1 Pg2g1=N 56. Qb1d1 Nd7xe5 57. Qd1xf1 Ng1f3 58. Kh2g3 Nf4e2 59. Kg3f2 Ne2c1 60. Bg8xe6 Nc1xa2 61. Ra7a4 Na2b4 62. Qf1xc4 Nf3xd4 63. Qc4b5 Nd4c6 64. Kf2e2 Nb4a6 65. Ke2d2 Nc6d4 66. Qb5d7 Ne5d3 67. Qd7e7 Kf8xe7 68. Kd2d1 Nd4f3 69. Ra4d4 Nf3g1 70. Be6c8 Nd3e1 71. Rd4e4 Ke7d6 72. Bc8e6 Ne1f3 73. Ph4h5 Nf3e1 74. Pc2c3 Ne1d3 75. Be6h3 Nd3b4 76. Re4e3 Ng1e2 77. Bh3f1 Kd6c5 78. Re3f3 Ne2c1 79. Rf3e3 Nb4a2 80. Bf1e2 Nc1d3 81. Re3e7 Pd5d4 82. Be2g4 Nd3e5 83. Kd1c2 Kc5d6 84. Bg4f5 Ne5f3 85. Re7c7 Na6b8 86. Bf5g6 Pd4d3 87. Kc2d1 Nb8a6 88. Rc7d7 Kd6c6 89. Rd7a7 Nf3d2 90. Bg6e4 Kc6b6 91. Be4d5 Nd2b3 92. Bd5g8 Na2xc3 93. Kd1e1 Nb3d4 94. Bg8a2 Nc3xa2 95. Pg5g6 Na2c3 96. Ra7h7 Kb6c5 97. Rh7g7 Nd4e6 98. Rg7h7 Kc5c6 99. Rh7f7 Nc3d5 100. Rf7f5 Ne6c5 \n",
      "1. Pe2e3 Pe7e5 2. Ke1e2 Bf8d6 3. Pd2d4 Nb8a6 4. Pd4d5 Pc7c6 5. Pf2f4 Pc6c5 6. Ke2f3 Qd8h4 7. Ng1h3 Qh4e1 8. Nh3f2 Qe1b4 9. Kf3g3 Ph7h5 10. Qd1d4 Qb4e1 11. Rh1g1 Ra8b8 12. Rg1h1 Pg7g5 13. Qd4c4 Ng8e7 14. Qc4b3 Rh8f8 15. Qb3b4 Rf8g8 16. Qb4d2 Ph5h4 17. Kg3g4 Rg8g6 18. Pa2a3 Qe1e2 19. Qd2xe2 Rg6e6 20. Nb1d2 Ne7g8 21. Qe2xa6 Ke8d8 22. Kg4h3 Rb8a8 23. Qa6b6 Kd8e7 24. Qb6xd6 Re6xd6 25. Nd2c4 Rd6a6 26. Nc4a5 Ra6g6 27. Nf2g4 Pd7d6 28. Na5c6 Pb7xc6 29. Bc1d2 Rg6e6 30. Ra1e1 Pe5xf4 31. Bf1d3 Pf7f5 32. Pb2b3 Re6f6 33. Pb3b4 Ke7f8 34. Bd3e2 Pc5xb4 35. Ng4xf6 Ng8h6 36. Rh1g1 Nh6g8 37. Be2a6 Pc6c5 38. Ba6xc8 Pf4f3 39. Bc8xf5 Ng8xf6 40. Rg1f1 Kf8e7 41. Bf5g6 Ra8f8 42. Bd2c1 Pb4xa3 43. Bg6h7 Ke7e8 44. Pg2xf3 Ke8e7 45. Pf3f4 Nf6g4 46. Kh3xg4 Ph4h3 47. Kg4h5 Ke7d8 48. Bc1xa3 Rf8g8 49. Ba3xc5 Kd8c7 50. Re1d1 Rg8e8 51. Rf1f2 Pd6xc5 52. Bh7g8 Re8d8 53. Rd1e1 Rd8b8 54. Rf2f3 Kc7b7 55. Pd5d6 Rb8c8 56. Re1d1 Kb7a6 57. Pc2c3 Rc8c6 58. Pf4f5 Pc5c4 59. Kh5g6 Rc6c8 60. Kg6xg5 Rc8c7 61. Kg5g6 Rc7d7 62. Pf5f6 Rd7g7 63. Pf6xg7 Ka6b5 64. Rd1h1 Kb5c6 65. Rh1f1 Kc6d7 66. Bg8d5 Kd7c8 67. Kg6h5 Kc8b8 68. Rf3f6 Kb8c8 69. Rf1h1 Kc8d7 70. Pg7g8=R Pa7a5 71. Rh1d1 Pa5a4 72. Rf6h6 Pa4a3 73. Rh6e6 Pa3a2 74. Rg8g2 Pa2a1=N 75. Rd1c1 Kd7d8 76. Re6e5 Ph3xg2 77. Bd5e6 Kd8e8 78. Rc1xa1 Pg2g1=B 79. Be6h3 Ke8d8 80. Kh5g6 Bg1xe3 81. Bh3g2 Be3h6 82. Re5d5 Bh6d2 83. Rd5xd2 Kd8e8 84. Bg2h1 Ke8d8 85. Kg6h5 Kd8e8 86. Ra1a6 Ke8f8 87. Ra6a8 Kf8f7 88. Bh1d5 Kf7g7 89. Ra8a1 Kg7h8 90. Kh5g4 Kh8h7 91. Kg4h3 Kh7h8 92. Kh3g2 Kh8h7 93. Ra1h1 Kh7g7 94. Bd5b7 Kg7g8 95. Rh1a1 Kg8g7 96. Kg2f3 Kg7f8 97. Bb7a6 Kf8g7 98. Kf3f2 Kg7h7 99. Ra1h1 Kh7h8 100. Rd2c2 Kh8g7 \n",
      "1. Ng1h3 Pe7e5 2. Pg2g3 Bf8d6 3. Bf1g2 Nb8a6 4. Nb1a3 Ke8e7 5. Na3c4 Pe5e4 6. Pb2b4 Pc7c6 7. Nc4a3 Na6b8 8. Bg2f3 Pe4xf3 9. Rh1f1 Bd6xg3 10. Nh3f4 Pa7a5 11. Ph2h4 Pf7f5 12. Pd2d4 Qd8f8 13. Pb4b5 Pd7d5 14. Pf2xg3 Pc6xb5 15. Qd1d2 Bc8e6 16. Pg3g4 Be6f7 17. Rf1g1 Qf8e8 18. Bc1b2 Bf7e6 19. Nf4h5 Pf3xe2 20. Qd2g5 Ke7f7 21. Bb2c3 Pg7g6 22. Qg5xg6 Ph7xg6 23. Nh5f6 Ng8e7 24. Rg1g2 Rh8g8 25. Nf6xg8 Pg6g5 26. Bc3b4 Kf7g6 27. Ng8h6 Ra8a7 28. Rg2g1 Kg6h7 29. Bb4c3 Nb8c6 30. Nh6f7 Pb5b4 31. Rg1g3 Pb4xa3 32. Rg3f3 Ra7a6 33. Nf7h8 Ne7g6 34. Nh8xg6 Pb7b6 35. Ng6f8 Qe8xf8 36. Rf3h3 Nc6b8 37. Ph4xg5 Kh7g6 38. Bc3xa5 Qf8h6 39. Ke1d2 Kg6h7 40. Kd2e1 Ra6a8 41. Rh3h1 Kh7g7 42. Ba5d2 Be6f7 43. Rh1h5 Nb8a6 44. Pg5xh6 Kg7h7 45. Rh5h3 Na6c7 46. Rh3xa3 Bf7e6 47. Bd2c3 Ra8a6 48. Ke1f2 Pb6b5 49. Ra3xa6 Pe2e1=B 50. Ra1xe1 Kh7g8 51. Kf2e3 Nc7a8 52. Ra6b6 Pf5f4 53. Ke3d2 Na8c7 54. Rb6xe6 Pb5b4 55. Kd2d1 Pb4b3 56. Re1e3 Nc7e8 57. Re3d3 Kg8h7 58. Re6c6 Kh7g8 59. Ph6h7 Kg8xh7 60. Bc3d2 Pb3xc2 61. Kd1e1 Pc2c1=Q 62. Ke1f2 Qc1xd2 63. Kf2f1 Qd2c3 64. Rd3d2 Qc3b2 65. Rd2d3 Kh7h8 66. Rc6c5 Qb2b7 67. Rc5c2 Qb7b6 68. Rd3f3 Qb6b2 69. Rc2f2 Qb2b5 70. Kf1g2 Qb5b4 71. Rf3b3 Qb4xb3 72. Rf2f1 Qb3f3 73. Rf1xf3 Ne8d6 74. Pa2a3 Nd6c8 75. Kg2h3 Nc8e7 76. Rf3f1 Ne7g8 77. Rf1e1 Kh8h7 78. Re1g1 Kh7g7 79. Rg1g3 Ng8e7 80. Kh3h4 Kg7g6 81. Rg3d3 Ne7c6 82. Rd3b3 Kg6f6 83. Kh4h5 Kf6e6 84. Kh5h4 Nc6b8 85. Kh4h5 Ke6d7 86. Rb3h3 Nb8c6 87. Kh5g6 Nc6e5 88. Kg6f5 Ne5f3 89. Kf5f6 Nf3h4 90. Rh3c3 Nh4f3 91. Rc3c7 Kd7d6 92. Rc7d7 Kd6xd7 93. Kf6g7 Kd7e6 94. Kg7f8 Ke6d6 95. Pg4g5 Nf3h2 96. Pg5g6 Kd6d7 97. Pa3a4 Kd7d6 98. Pa4a5 Nh2f1 99. Kf8g8 Kd6e6 100. Kg8h8 Ke6d7 \n",
      "1. Pe2e4 Pe7e6 2. Pa2a4 Bf8c5 3. Ke1e2 Pa7a6 4. Pb2b4 Ke8f8 5. Pd2d4 Ng8f6 6. Ke2e1 Nf6e8 7. Ng1f3 Pg7g6 8. Bc1e3 Qd8e7 9. Be3g5 Rh8g8 10. Pg2g3 Qe7d8 11. Qd1c1 Bc5e7 12. Qc1b2 Ne8f6 13. Pg3g4 Nf6e8 14. Nf3g1 Pc7c6 15. Pf2f3 Be7xb4 16. Qb2c3 Ne8c7 17. Bf1g2 Qd8f6 18. Bg5h4 Qf6e7 19. Pf3f4 Nc7b5 20. Qc3d2 Kf8g7 21. Ra1a3 Pd7d5 22. Pe4xd5 Bb4c3 23. Nb1xc3 Ph7h6 24. Ra3a1 Qe7g5 25. Bg2h3 Kg7f8 26. Ke1f1 Nb5a7 27. Ra1c1 Pa6a5 28. Qd2f2 Qg5xg4 29. Qf2e3 Pe6e5 30. Qe3e1 Qg4xh3 31. Ng1xh3 Bc8e6 32. Rc1d1 Pb7b5 33. Bh4g5 Be6d7 34. Qe1e3 Bd7e8 35. Pf4xe5 Nb8a6 36. Qe3c1 Pc6c5 37. Rd1d2 Ra8d8 38. Qc1b2 Na7c8 39. Qb2b4 Rd8d7 40. Pa4xb5 Rd7c7 41. Kf1e2 Ph6h5 42. Pe5e6 Pf7f5 43. Qb4a4 Rc7e7 44. Pb5b6 Be8b5 45. Qa4c4 Kf8g7 46. Ke2d3 Bb5e8 47. Rh1e1 Pf5f4 48. Qc4b4 Kg7h8 49. Pd5d6 Pc5xb4 50. Re1b1 Nc8xd6 51. Rb1g1 Be8b5 52. Nc3xb5 Re7d7 53. Bg5xf4 Rd7f7 54. Bf4h6 Rf7e7 55. Bh6f4 Nd6e8 56. Rg1xg6 Ph5h4 57. Nh3g5 Pa5a4 58. Ng5f7 Re7xf7 59. Rg6g2 Rf7e7 60. Bf4g5 Re7g7 61. Bg5e3 Na6c7 62. Pb6b7 Pa4a3 63. Nb5c3 Rg7h7 64. Be3g5 Rh7d7 65. Rg2g3 Rg8xg5 66. Rd2d1 Rg5g4 67. Nc3e4 Nc7b5 68. Rg3g2 Rg4g6 69. Pb7b8=B Rg6xg2 70. Ne4f2 Ph4h3 71. Rd1d2 Rg2g7 72. Pd4d5 Nb5a7 73. Bb8f4 Na7c8 74. Bf4c7 Rd7f7 75. Bc7f4 Pb4b3 76. Kd3d4 Kh8h7 77. Pc2xb3 Rf7c7 78. Rd2b2 Rc7f7 79. Bf4e3 Kh7g6 80. Nf2d1 Rg7g8 81. Rb2b1 Rf7f6 82. Be3c1 Nc8e7 83. Kd4d3 Pa3a2 84. Bc1b2 Pa2xb1=N 85. Pd5d6 Rf6f4 86. Bb2c1 Ne8c7 87. Kd3e2 Nc7a6 88. Bc1a3 Rg8c8 89. Ba3b2 Rf4f3 90. Bb2a3 Na6b4 91. Ke2e1 Kg6g7 92. Pd6xe7 Rf3f8 93. Pe7e8=N Kg7h8 94. Nd1e3 Rc8c5 95. Pe6e7 Rc5g5 96. Pe7xf8=R Rg5g8 97. Ke1f1 Nb4c2 98. Ne3f5 Kh8h7 99. Nf5h6 Nb1c3 100. Ba3c1 Rg8g4 \n"
     ]
    }
   ],
   "source": [
    "# test fen,\n",
    "for repeat in range(10):\n",
    "    game = ramen_chess.Game()\n",
    "    for i in range(200):\n",
    "        p_board = chess.Board(game.fen())\n",
    "        fen = game.fen()\n",
    "        p_fen = p_board.fen(en_passant=\"fen\")\n",
    "        try:\n",
    "            assert fen == p_fen\n",
    "        except:\n",
    "            print(fen+\"\\n=?=\\n\"+p_fen)\n",
    "        moves = game.legal_moves()\n",
    "        moves_uci = {move.uci() for move in moves}\n",
    "        p_moves_uci = {move.uci() for move in p_board.legal_moves}\n",
    "        try:\n",
    "            assert moves_uci == p_moves_uci\n",
    "        except:\n",
    "            print(game.board)\n",
    "            print(*moves_uci)\n",
    "            print(*p_moves_uci)\n",
    "            print(moves_uci - p_moves_uci)\n",
    "            print(p_moves_uci - moves_uci)\n",
    "            break\n",
    "        if moves == []:\n",
    "            if game.is_check():\n",
    "                print(\"Checkmate:\")\n",
    "            else:\n",
    "                print(\"Stalemate:\")\n",
    "            break\n",
    "        else:\n",
    "            game.move(random.choice(moves))\n",
    "    print(game.pgn())"
   ]
  },
  {
   "cell_type": "code",
   "execution_count": 5,
   "metadata": {},
   "outputs": [],
   "source": [
    "# test the check, checkmate, stalemate\n",
    "fen = \"r1b3n1/p2k4/1ppPpp1b/4Pq2/PP1P4/N1n3Pp/5R1P/3KNB1R w - - 5 26\"\n",
    "game=Game(fen)\n",
    "assert game.is_check()\n",
    "assert game.is_checkmate()\n",
    "# stalemate:\n",
    "fen = \"k7/2Q5/8/8/8/8/8/4K3 b - - 0 1\"\n",
    "game=Game(fen)\n",
    "assert not game.is_check()\n",
    "assert game.is_stalemate()"
   ]
  },
  {
   "cell_type": "code",
   "execution_count": 6,
   "metadata": {},
   "outputs": [
    {
     "name": "stdout",
     "output_type": "stream",
     "text": [
      "8 | . . . . . . . . \n",
      "7 | . ♚ . ♙ . . . . \n",
      "6 | . . . . . . . . \n",
      "5 | . . . . . . . . \n",
      "4 | . . . . . . . . \n",
      "3 | . . . . . . . . \n",
      "2 | . ♔ . . . . . . \n",
      "1 | . . . . . . . . \n",
      "   ––––––––––––––––\n",
      "    a b c d e f g h\n",
      "Kb2a1 Kb2a2 Kb2a3 Kb2b1 Kb2b3 Kb2c1 Kb2c2 Kb2c3 Pd7d8=Q Pd7d8=R Pd7d8=B Pd7d8=N\n"
     ]
    }
   ],
   "source": [
    "# test promotion\n",
    "fen=\"8/1k1P4/8/8/8/8/1K6/8 w - - 0 1\"\n",
    "game = Game(fen)\n",
    "print(game.board)\n",
    "print(*game.legal_moves())\n"
   ]
  }
 ],
 "metadata": {
  "kernelspec": {
   "display_name": "base",
   "language": "python",
   "name": "python3"
  },
  "language_info": {
   "codemirror_mode": {
    "name": "ipython",
    "version": 3
   },
   "file_extension": ".py",
   "mimetype": "text/x-python",
   "name": "python",
   "nbconvert_exporter": "python",
   "pygments_lexer": "ipython3",
   "version": "3.9.12"
  }
 },
 "nbformat": 4,
 "nbformat_minor": 2
}
