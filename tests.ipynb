{
 "cells": [
  {
   "cell_type": "code",
   "execution_count": 2,
   "metadata": {},
   "outputs": [
    {
     "data": {
      "text/plain": [
       "<module 'chess' from '/Users/benoitmuller/Documents/lichess-bot/engines/foggyramen/chess.py'>"
      ]
     },
     "execution_count": 2,
     "metadata": {},
     "output_type": "execute_result"
    }
   ],
   "source": [
    "import chess\n",
    "import random\n",
    "import importlib\n",
    "importlib.reload(chess)"
   ]
  },
  {
   "cell_type": "code",
   "execution_count": 6,
   "metadata": {},
   "outputs": [
    {
     "name": "stdout",
     "output_type": "stream",
     "text": [
      "Testing Square class\n",
      "Testing Move class\n",
      "Testing Board class\n",
      "fastest mate:\n",
      "8 | ♜ ♞ ♝ . ♚ ♝ ♞ ♜ \n",
      "7 | ♟ ♟ ♟ ♟ . ♟ ♟ ♟ \n",
      "6 | . . . . ♟ . . . \n",
      "5 | . . . . . . . . \n",
      "4 | . . . . . . ♙ ♛ \n",
      "3 | . . . . . ♙ . . \n",
      "2 | ♙ ♙ ♙ ♙ ♙ . . ♙ \n",
      "1 | ♖ ♘ ♗ ♕ ♔ ♗ ♘ ♖ \n",
      "   ––––––––––––––––\n",
      "    a b c d e f g h\n",
      "Testing Game class\n",
      "1. Pf2f3 Pe7e6 2. Pg2g4 Qd8h4 \n",
      "8 | ♜ ♞ ♝ . ♚ ♝ ♞ ♜ \n",
      "7 | ♟ ♟ ♟ ♟ . ♟ ♟ ♟ \n",
      "6 | . . . . ♟ . . . \n",
      "5 | . . . . . . . . \n",
      "4 | . . . . . . ♙ ♛ \n",
      "3 | . . . . . ♙ . . \n",
      "2 | ♙ ♙ ♙ ♙ ♙ . . ♙ \n",
      "1 | ♖ ♘ ♗ ♕ ♔ ♗ ♘ ♖ \n",
      "   ––––––––––––––––\n",
      "    a b c d e f g h\n",
      "White to move.\n",
      "Pa2a3 Pa2a4 Nb1c3 Nb1a3 Pb2b3 Pb2b4 Pc2c3 Pc2c4 Pd2d3 Pd2d4 Ke1f2 Pe2e3 Pe2e4 Bf1g2 Bf1h3 Pf3f4 Ng1h3 Pg4g5 Ph2h3\n",
      "Pf2f3 Pe7e6 Pg2g4 Qd8h4\n",
      "1. Pf2f3 Pe7e6 2. Pg2g4 \n",
      "8 | ♜ ♞ ♝ ♛ ♚ ♝ ♞ ♜ \n",
      "7 | ♟ ♟ ♟ ♟ . ♟ ♟ ♟ \n",
      "6 | . . . . ♟ . . . \n",
      "5 | . . . . . . . . \n",
      "4 | . . . . . . ♙ . \n",
      "3 | . . . . . ♙ . . \n",
      "2 | ♙ ♙ ♙ ♙ ♙ . . ♙ \n",
      "1 | ♖ ♘ ♗ ♕ ♔ ♗ ♘ ♖ \n",
      "   ––––––––––––––––\n",
      "    a b c d e f g h\n",
      "Black to move.\n",
      "8 | ♜ ♞ ♝ . ♚ ♝ ♞ ♜ \n",
      "7 | ♟ ♟ ♟ ♟ . ♟ ♟ ♟ \n",
      "6 | . . . . ♟ . . . \n",
      "5 | . . . . . . . . \n",
      "4 | . . . . . . ♙ ♛ \n",
      "3 | . . . . . ♙ . . \n",
      "2 | ♙ ♙ ♙ ♙ ♙ . . ♙ \n",
      "1 | ♖ ♘ ♗ ♕ ♔ ♗ ♘ ♖ \n",
      "   ––––––––––––––––\n",
      "    a b c d e f g h\n",
      "rnb1kbnr/pppp1ppp/1111p111/11111111/111111Pq/11111P11/PPPPP11P/RNBQKBNR\n",
      "All tests passed\n"
     ]
    }
   ],
   "source": [
    "# Test the Square class\n",
    "print(\"Testing Square class\")\n",
    "pos1= chess.Square(4,3)\n",
    "pos2= chess.Square(\"e\",\"4\")\n",
    "assert pos1 == pos2\n",
    "assert str(pos1) == \"e4\"\n",
    "pos3 = pos1 + (1,1)\n",
    "assert pos3 == chess.Square(5,4)\n",
    "pos4 = chess.Square(pos1[0], pos1[1])\n",
    "assert pos4 == pos1\n",
    "\n",
    "# Test the Move class\n",
    "print(\"Testing Move class\")\n",
    "move1 = chess.Move(pos1, pos3)\n",
    "move2 = chess.Move(\"e4\", \"f5\")\n",
    "assert move1 == move2\n",
    "assert str(move1) == \"e4f5\"\n",
    "\n",
    "# Test the Board class\n",
    "print(\"Testing Board class\")\n",
    "board = chess.Board()\n",
    "board.set_starting_position()\n",
    "assert board[0,0].name == \"R\"\n",
    "#print(\"initial position:\")\n",
    "#print(board)\n",
    "board.move(\"f2f3\")\n",
    "board.move(\"e7e6\")\n",
    "board.move(\"g2g4\")\n",
    "print(\"fastest mate:\")\n",
    "board.move(\"d8h4\",show=True)\n",
    "\n",
    "print(\"Testing Game class\")\n",
    "game = chess.Game()\n",
    "game.move(\"f2f3\")\n",
    "game.move(\"e7e6\")\n",
    "game.move(\"g2g4\")\n",
    "game.move(\"d8h4\")\n",
    "print(game)\n",
    "moves= game.pseudo_legal_moves()\n",
    "print(*moves)\n",
    "print(*game.moves)\n",
    "game.undo_move()\n",
    "print(game)\n",
    "board = chess.Board.from_fen(\"rnb1kbnr/pppp1ppp/1111p111/11111111/111111Pq/11111P11/PPPPP11P/RNBQKBNR\")\n",
    "print(board)\n",
    "print(board.fen())\n",
    "\n",
    "print(\"All tests passed\")\n"
   ]
  },
  {
   "cell_type": "code",
   "execution_count": null,
   "metadata": {},
   "outputs": [
    {
     "name": "stdout",
     "output_type": "stream",
     "text": [
      "Game starting, to end game type 'exit'.\n",
      "\n",
      "8 | ♜ ♞ ♝ ♛ ♚ ♝ ♞ ♜ \n",
      "7 | ♟ ♟ ♟ ♟ ♟ ♟ ♟ ♟ \n",
      "6 | . . . . . . . . \n",
      "5 | . . . . . . . . \n",
      "4 | . . . . . . . . \n",
      "3 | . . . . . . . . \n",
      "2 | ♙ ♙ ♙ ♙ ♙ ♙ ♙ ♙ \n",
      "1 | ♖ ♘ ♗ ♕ ♔ ♗ ♘ ♖ \n",
      "   ––––––––––––––––\n",
      "    a b c d e f g h\n",
      "White to move.\n",
      "Possible moves: Pa2a3 Pa2a4 Nb1c3 Nb1a3 Pb2b3 Pb2b4 Pc2c3 Pc2c4 Pd2d3 Pd2d4 Pe2e3 Pe2e4 Pf2f3 Pf2f4 Ng1h3 Ng1f3 Pg2g3 Pg2g4 Ph2h3 Ph2h4\n",
      "1. Pe2e4 \n",
      "8 | ♜ ♞ ♝ ♛ ♚ ♝ ♞ ♜ \n",
      "7 | ♟ ♟ ♟ ♟ ♟ ♟ ♟ ♟ \n",
      "6 | . . . . . . . . \n",
      "5 | . . . . . . . . \n",
      "4 | . . . . ♙ . . . \n",
      "3 | . . . . . . . . \n",
      "2 | ♙ ♙ ♙ ♙ . ♙ ♙ ♙ \n",
      "1 | ♖ ♘ ♗ ♕ ♔ ♗ ♘ ♖ \n",
      "   ––––––––––––––––\n",
      "    a b c d e f g h\n",
      "Black to move.\n",
      "Possible moves: Pa7a6 Pa7a5 Pb7b6 Pb7b5 Nb8a6 Nb8c6 Pc7c6 Pc7c5 Pd7d6 Pd7d5 Pe7e6 Pe7e5 Pf7f6 Pf7f5 Pg7g6 Pg7g5 Ng8f6 Ng8h6 Ph7h6 Ph7h5\n"
     ]
    }
   ],
   "source": [
    "# test game\n",
    "# the interactive mode\n",
    "game = chess.Game()\n",
    "game.play_interactive()\n",
    "# 1. Pe2e4 Pe7e5 2. Ng1f3 Nb8c6 3. Bf1c4 Bf8c5 4. O-O "
   ]
  },
  {
   "cell_type": "code",
   "execution_count": null,
   "metadata": {},
   "outputs": [
    {
     "name": "stdout",
     "output_type": "stream",
     "text": [
      "1. Ph2h3 Ng8f6 2. Ph3h4 Pd7d5 3. Pa2a4 Nf6h5 4. Pc2c3 Pe7e6 5. Qd1c2 Qd8f6 6. Pd2d3 Bc8d7 7. Ke1d2 Bd7b5 8. Qc2d1 Nb8c6 9. Ra1a3 Pa7a6 10. Kd2e1 Qf6xc3 11. Pb2xc3 Nc6d4 12. Bc1h6 Bb5xa4 13. Bh6e3 Pf7f6 14. Qd1c2 Bf8d6 15. Be3f4 Bd6f8 16. Ra3a2 Nd4xe2 17. Qc2d1 Ba4b5 18. Ra2a5 Ke8d7 19. Ra5a2 Pg7g6 20. Bf4g3 Bf8h6 21. Ra2c2 Bh6d2 22. Nb1xd2 Ra8c8 23. Rh1h3 Rc8g8 24. Pf2f4 Rg8b8 25. Ng1xe2 Rh8f8 \n",
      "8 | . ♜ . . . ♜ . . \n",
      "7 | . ♟ ♟ ♚ . . . ♟ \n",
      "6 | ♟ . . . ♟ ♟ ♟ . \n",
      "5 | . ♝ . ♟ . . . ♞ \n",
      "4 | . . . . . ♙ . ♙ \n",
      "3 | . . ♙ ♙ . . ♗ ♖ \n",
      "2 | . . ♖ ♘ ♘ . ♙ . \n",
      "1 | . . . ♕ ♔ ♗ . . \n",
      "   ––––––––––––––––\n",
      "    a b c d e f g h\n",
      "White to move.\n"
     ]
    }
   ],
   "source": [
    "# test the random mode\n",
    "game = chess.Game()\n",
    "for i in range(50):\n",
    "    moves = game.legal_moves()\n",
    "    if moves == []:\n",
    "        if game.is_checkmate():\n",
    "            print(\"Checkmate\")\n",
    "        elif game.is_stalemate():\n",
    "            print(\"Stalemate\")\n",
    "        else:\n",
    "            assert False\n",
    "    game.move(random.choice(moves))\n",
    "print(game)"
   ]
  },
  {
   "cell_type": "code",
   "execution_count": null,
   "metadata": {},
   "outputs": [],
   "source": [
    "# TODO: test the python chess brdige"
   ]
  }
 ],
 "metadata": {
  "kernelspec": {
   "display_name": "base",
   "language": "python",
   "name": "python3"
  },
  "language_info": {
   "codemirror_mode": {
    "name": "ipython",
    "version": 3
   },
   "file_extension": ".py",
   "mimetype": "text/x-python",
   "name": "python",
   "nbconvert_exporter": "python",
   "pygments_lexer": "ipython3",
   "version": "3.9.12"
  }
 },
 "nbformat": 4,
 "nbformat_minor": 2
}
