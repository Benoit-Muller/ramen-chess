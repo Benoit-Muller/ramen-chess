{
 "cells": [
  {
   "cell_type": "code",
   "execution_count": null,
   "metadata": {},
   "outputs": [
    {
     "name": "stdout",
     "output_type": "stream",
     "text": [
      "8| r n b q k b n r \n",
      "7| p p p p p p p p \n",
      "6| . . . . . . . . \n",
      "5| . . . . . . . . \n",
      "4| . . . . . . . . \n",
      "3| . . . . . . . . \n",
      "2| P P P P P P P P \n",
      "1| R N B Q K B N R \n",
      "  ––––––––––––––––\n",
      "  a b c d e f g h\n",
      "8| . . . . . . . . \n",
      "7| . . . . . . . . \n",
      "6| . . . . . . . . \n",
      "5| . . . . . . . . \n",
      "4| . . . . . . . . \n",
      "3| . . . . . . . . \n",
      "2| . . . . . . . . \n",
      "1| . . . . . . . . \n",
      "  ––––––––––––––––\n",
      "  a b c d e f g h\n",
      "8| r n b q k b n r \n",
      "7| p p p p p p p p \n",
      "6| . . . . . . . . \n",
      "5| . . . . . . . . \n",
      "4| . . . . . . . . \n",
      "3| . . . . . . . . \n",
      "2| P P P P P P P P \n",
      "1| R N B Q K B N R \n",
      "  ––––––––––––––––\n",
      "  a b c d e f g h\n"
     ]
    }
   ],
   "source": [
    "import chess\n",
    "import importlib\n",
    "importlib.reload(chess)\n",
    "main_board = chess.Board()\n",
    "print(main_board)\n",
    "main_board.clear()\n",
    "print(main_board)\n",
    "main_board.starting_position()\n",
    "print(main_board)"
   ]
  },
  {
   "cell_type": "code",
   "execution_count": 6,
   "metadata": {},
   "outputs": [
    {
     "name": "stdout",
     "output_type": "stream",
     "text": [
      "8| r n b q k b n r \n",
      "7| p p p p p p p p \n",
      "6| . . . . . . . . \n",
      "5| . . . . . . . . \n",
      "4| . . . . . . . . \n",
      "3| . . . . . . . . \n",
      "2| P P P P P P P P \n",
      "1| R N B Q K B N R \n",
      "  ––––––––––––––––\n",
      "  a b c d e f g h\n",
      "8| r n b q k b n r \n",
      "7| p p p p p p p p \n",
      "6| . . . . . . . . \n",
      "5| . . . . . . . . \n",
      "4| . . . . P . . . \n",
      "3| . . . . . . . . \n",
      "2| P P P P . P P P \n",
      "1| R N B Q K B N R \n",
      "  ––––––––––––––––\n",
      "  a b c d e f g h\n",
      "8| r n b q k b n r \n",
      "7| p p p p . p p p \n",
      "6| . . . . . . . . \n",
      "5| . . . . p . . . \n",
      "4| . . . . P . . . \n",
      "3| . . . . . . . . \n",
      "2| P P P P . P P P \n",
      "1| R N B Q K B N R \n",
      "  ––––––––––––––––\n",
      "  a b c d e f g h\n"
     ]
    }
   ],
   "source": [
    "import chess\n",
    "import importlib\n",
    "importlib.reload(chess)\n",
    "# Create a new chess board\n",
    "board = chess.Board()\n",
    "\n",
    "# Print the initial board state\n",
    "print(board)\n",
    "board.move_piece(chess.Move(\"e2\",\"e4\"),show=True)  # White moves pawn from e2 to e4\n",
    "board.move_piece(chess.Move(\"e7\",\"e5\"),show=True)  # Black moves pawn from e7 to e5"
   ]
  }
 ],
 "metadata": {
  "kernelspec": {
   "display_name": "base",
   "language": "python",
   "name": "python3"
  },
  "language_info": {
   "codemirror_mode": {
    "name": "ipython",
    "version": 3
   },
   "file_extension": ".py",
   "mimetype": "text/x-python",
   "name": "python",
   "nbconvert_exporter": "python",
   "pygments_lexer": "ipython3",
   "version": "3.9.12"
  }
 },
 "nbformat": 4,
 "nbformat_minor": 2
}
